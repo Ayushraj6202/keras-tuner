{
  "cells": [
    {
      "cell_type": "markdown",
      "metadata": {
        "id": "view-in-github",
        "colab_type": "text"
      },
      "source": [
        "<a href=\"https://colab.research.google.com/github/Ayushraj6202/keras-tuner/blob/main/Keras_Tuner.ipynb\" target=\"_parent\"><img src=\"https://colab.research.google.com/assets/colab-badge.svg\" alt=\"Open In Colab\"/></a>"
      ]
    },
    {
      "cell_type": "code",
      "execution_count": null,
      "metadata": {
        "id": "ItNj_CQhXMz6"
      },
      "outputs": [],
      "source": [
        "import pandas as pd\n",
        "import numpy as np\n",
        "import matplotlib.pyplot as plt\n",
        "import tensorflow\n",
        "from tensorflow import keras\n",
        "from keras.layers import Dense,Dropout\n",
        "from tensorflow.keras import Sequential"
      ]
    },
    {
      "cell_type": "code",
      "execution_count": null,
      "metadata": {
        "colab": {
          "base_uri": "https://localhost:8080/",
          "height": 206
        },
        "id": "Sig5gmheXj-E",
        "outputId": "bafbb72c-60ff-4efa-b8b8-2e4ed253ed3b"
      },
      "outputs": [
        {
          "data": {
            "application/vnd.google.colaboratory.intrinsic+json": {
              "summary": "{\n  \"name\": \"data\",\n  \"rows\": 768,\n  \"fields\": [\n    {\n      \"column\": \"Pregnancies\",\n      \"properties\": {\n        \"dtype\": \"number\",\n        \"std\": 3,\n        \"min\": 0,\n        \"max\": 17,\n        \"num_unique_values\": 17,\n        \"samples\": [\n          6,\n          1,\n          3\n        ],\n        \"semantic_type\": \"\",\n        \"description\": \"\"\n      }\n    },\n    {\n      \"column\": \"Glucose\",\n      \"properties\": {\n        \"dtype\": \"number\",\n        \"std\": 31,\n        \"min\": 0,\n        \"max\": 199,\n        \"num_unique_values\": 136,\n        \"samples\": [\n          151,\n          101,\n          112\n        ],\n        \"semantic_type\": \"\",\n        \"description\": \"\"\n      }\n    },\n    {\n      \"column\": \"BloodPressure\",\n      \"properties\": {\n        \"dtype\": \"number\",\n        \"std\": 19,\n        \"min\": 0,\n        \"max\": 122,\n        \"num_unique_values\": 47,\n        \"samples\": [\n          86,\n          46,\n          85\n        ],\n        \"semantic_type\": \"\",\n        \"description\": \"\"\n      }\n    },\n    {\n      \"column\": \"SkinThickness\",\n      \"properties\": {\n        \"dtype\": \"number\",\n        \"std\": 15,\n        \"min\": 0,\n        \"max\": 99,\n        \"num_unique_values\": 51,\n        \"samples\": [\n          7,\n          12,\n          48\n        ],\n        \"semantic_type\": \"\",\n        \"description\": \"\"\n      }\n    },\n    {\n      \"column\": \"Insulin\",\n      \"properties\": {\n        \"dtype\": \"number\",\n        \"std\": 115,\n        \"min\": 0,\n        \"max\": 846,\n        \"num_unique_values\": 186,\n        \"samples\": [\n          52,\n          41,\n          183\n        ],\n        \"semantic_type\": \"\",\n        \"description\": \"\"\n      }\n    },\n    {\n      \"column\": \"BMI\",\n      \"properties\": {\n        \"dtype\": \"number\",\n        \"std\": 7.884160320375446,\n        \"min\": 0.0,\n        \"max\": 67.1,\n        \"num_unique_values\": 248,\n        \"samples\": [\n          19.9,\n          31.0,\n          38.1\n        ],\n        \"semantic_type\": \"\",\n        \"description\": \"\"\n      }\n    },\n    {\n      \"column\": \"DiabetesPedigreeFunction\",\n      \"properties\": {\n        \"dtype\": \"number\",\n        \"std\": 0.3313285950127749,\n        \"min\": 0.078,\n        \"max\": 2.42,\n        \"num_unique_values\": 517,\n        \"samples\": [\n          1.731,\n          0.426,\n          0.138\n        ],\n        \"semantic_type\": \"\",\n        \"description\": \"\"\n      }\n    },\n    {\n      \"column\": \"Age\",\n      \"properties\": {\n        \"dtype\": \"number\",\n        \"std\": 11,\n        \"min\": 21,\n        \"max\": 81,\n        \"num_unique_values\": 52,\n        \"samples\": [\n          60,\n          47,\n          72\n        ],\n        \"semantic_type\": \"\",\n        \"description\": \"\"\n      }\n    },\n    {\n      \"column\": \"Outcome\",\n      \"properties\": {\n        \"dtype\": \"number\",\n        \"std\": 0,\n        \"min\": 0,\n        \"max\": 1,\n        \"num_unique_values\": 2,\n        \"samples\": [\n          0,\n          1\n        ],\n        \"semantic_type\": \"\",\n        \"description\": \"\"\n      }\n    }\n  ]\n}",
              "type": "dataframe",
              "variable_name": "data"
            },
            "text/html": [
              "\n",
              "  <div id=\"df-07144433-55c7-4818-9284-76476ff11b7e\" class=\"colab-df-container\">\n",
              "    <div>\n",
              "<style scoped>\n",
              "    .dataframe tbody tr th:only-of-type {\n",
              "        vertical-align: middle;\n",
              "    }\n",
              "\n",
              "    .dataframe tbody tr th {\n",
              "        vertical-align: top;\n",
              "    }\n",
              "\n",
              "    .dataframe thead th {\n",
              "        text-align: right;\n",
              "    }\n",
              "</style>\n",
              "<table border=\"1\" class=\"dataframe\">\n",
              "  <thead>\n",
              "    <tr style=\"text-align: right;\">\n",
              "      <th></th>\n",
              "      <th>Pregnancies</th>\n",
              "      <th>Glucose</th>\n",
              "      <th>BloodPressure</th>\n",
              "      <th>SkinThickness</th>\n",
              "      <th>Insulin</th>\n",
              "      <th>BMI</th>\n",
              "      <th>DiabetesPedigreeFunction</th>\n",
              "      <th>Age</th>\n",
              "      <th>Outcome</th>\n",
              "    </tr>\n",
              "  </thead>\n",
              "  <tbody>\n",
              "    <tr>\n",
              "      <th>0</th>\n",
              "      <td>6</td>\n",
              "      <td>148</td>\n",
              "      <td>72</td>\n",
              "      <td>35</td>\n",
              "      <td>0</td>\n",
              "      <td>33.6</td>\n",
              "      <td>0.627</td>\n",
              "      <td>50</td>\n",
              "      <td>1</td>\n",
              "    </tr>\n",
              "    <tr>\n",
              "      <th>1</th>\n",
              "      <td>1</td>\n",
              "      <td>85</td>\n",
              "      <td>66</td>\n",
              "      <td>29</td>\n",
              "      <td>0</td>\n",
              "      <td>26.6</td>\n",
              "      <td>0.351</td>\n",
              "      <td>31</td>\n",
              "      <td>0</td>\n",
              "    </tr>\n",
              "    <tr>\n",
              "      <th>2</th>\n",
              "      <td>8</td>\n",
              "      <td>183</td>\n",
              "      <td>64</td>\n",
              "      <td>0</td>\n",
              "      <td>0</td>\n",
              "      <td>23.3</td>\n",
              "      <td>0.672</td>\n",
              "      <td>32</td>\n",
              "      <td>1</td>\n",
              "    </tr>\n",
              "    <tr>\n",
              "      <th>3</th>\n",
              "      <td>1</td>\n",
              "      <td>89</td>\n",
              "      <td>66</td>\n",
              "      <td>23</td>\n",
              "      <td>94</td>\n",
              "      <td>28.1</td>\n",
              "      <td>0.167</td>\n",
              "      <td>21</td>\n",
              "      <td>0</td>\n",
              "    </tr>\n",
              "    <tr>\n",
              "      <th>4</th>\n",
              "      <td>0</td>\n",
              "      <td>137</td>\n",
              "      <td>40</td>\n",
              "      <td>35</td>\n",
              "      <td>168</td>\n",
              "      <td>43.1</td>\n",
              "      <td>2.288</td>\n",
              "      <td>33</td>\n",
              "      <td>1</td>\n",
              "    </tr>\n",
              "  </tbody>\n",
              "</table>\n",
              "</div>\n",
              "    <div class=\"colab-df-buttons\">\n",
              "\n",
              "  <div class=\"colab-df-container\">\n",
              "    <button class=\"colab-df-convert\" onclick=\"convertToInteractive('df-07144433-55c7-4818-9284-76476ff11b7e')\"\n",
              "            title=\"Convert this dataframe to an interactive table.\"\n",
              "            style=\"display:none;\">\n",
              "\n",
              "  <svg xmlns=\"http://www.w3.org/2000/svg\" height=\"24px\" viewBox=\"0 -960 960 960\">\n",
              "    <path d=\"M120-120v-720h720v720H120Zm60-500h600v-160H180v160Zm220 220h160v-160H400v160Zm0 220h160v-160H400v160ZM180-400h160v-160H180v160Zm440 0h160v-160H620v160ZM180-180h160v-160H180v160Zm440 0h160v-160H620v160Z\"/>\n",
              "  </svg>\n",
              "    </button>\n",
              "\n",
              "  <style>\n",
              "    .colab-df-container {\n",
              "      display:flex;\n",
              "      gap: 12px;\n",
              "    }\n",
              "\n",
              "    .colab-df-convert {\n",
              "      background-color: #E8F0FE;\n",
              "      border: none;\n",
              "      border-radius: 50%;\n",
              "      cursor: pointer;\n",
              "      display: none;\n",
              "      fill: #1967D2;\n",
              "      height: 32px;\n",
              "      padding: 0 0 0 0;\n",
              "      width: 32px;\n",
              "    }\n",
              "\n",
              "    .colab-df-convert:hover {\n",
              "      background-color: #E2EBFA;\n",
              "      box-shadow: 0px 1px 2px rgba(60, 64, 67, 0.3), 0px 1px 3px 1px rgba(60, 64, 67, 0.15);\n",
              "      fill: #174EA6;\n",
              "    }\n",
              "\n",
              "    .colab-df-buttons div {\n",
              "      margin-bottom: 4px;\n",
              "    }\n",
              "\n",
              "    [theme=dark] .colab-df-convert {\n",
              "      background-color: #3B4455;\n",
              "      fill: #D2E3FC;\n",
              "    }\n",
              "\n",
              "    [theme=dark] .colab-df-convert:hover {\n",
              "      background-color: #434B5C;\n",
              "      box-shadow: 0px 1px 3px 1px rgba(0, 0, 0, 0.15);\n",
              "      filter: drop-shadow(0px 1px 2px rgba(0, 0, 0, 0.3));\n",
              "      fill: #FFFFFF;\n",
              "    }\n",
              "  </style>\n",
              "\n",
              "    <script>\n",
              "      const buttonEl =\n",
              "        document.querySelector('#df-07144433-55c7-4818-9284-76476ff11b7e button.colab-df-convert');\n",
              "      buttonEl.style.display =\n",
              "        google.colab.kernel.accessAllowed ? 'block' : 'none';\n",
              "\n",
              "      async function convertToInteractive(key) {\n",
              "        const element = document.querySelector('#df-07144433-55c7-4818-9284-76476ff11b7e');\n",
              "        const dataTable =\n",
              "          await google.colab.kernel.invokeFunction('convertToInteractive',\n",
              "                                                    [key], {});\n",
              "        if (!dataTable) return;\n",
              "\n",
              "        const docLinkHtml = 'Like what you see? Visit the ' +\n",
              "          '<a target=\"_blank\" href=https://colab.research.google.com/notebooks/data_table.ipynb>data table notebook</a>'\n",
              "          + ' to learn more about interactive tables.';\n",
              "        element.innerHTML = '';\n",
              "        dataTable['output_type'] = 'display_data';\n",
              "        await google.colab.output.renderOutput(dataTable, element);\n",
              "        const docLink = document.createElement('div');\n",
              "        docLink.innerHTML = docLinkHtml;\n",
              "        element.appendChild(docLink);\n",
              "      }\n",
              "    </script>\n",
              "  </div>\n",
              "\n",
              "\n",
              "<div id=\"df-c2719e01-9fc0-4aa0-bd3e-0386fa7234de\">\n",
              "  <button class=\"colab-df-quickchart\" onclick=\"quickchart('df-c2719e01-9fc0-4aa0-bd3e-0386fa7234de')\"\n",
              "            title=\"Suggest charts\"\n",
              "            style=\"display:none;\">\n",
              "\n",
              "<svg xmlns=\"http://www.w3.org/2000/svg\" height=\"24px\"viewBox=\"0 0 24 24\"\n",
              "     width=\"24px\">\n",
              "    <g>\n",
              "        <path d=\"M19 3H5c-1.1 0-2 .9-2 2v14c0 1.1.9 2 2 2h14c1.1 0 2-.9 2-2V5c0-1.1-.9-2-2-2zM9 17H7v-7h2v7zm4 0h-2V7h2v10zm4 0h-2v-4h2v4z\"/>\n",
              "    </g>\n",
              "</svg>\n",
              "  </button>\n",
              "\n",
              "<style>\n",
              "  .colab-df-quickchart {\n",
              "      --bg-color: #E8F0FE;\n",
              "      --fill-color: #1967D2;\n",
              "      --hover-bg-color: #E2EBFA;\n",
              "      --hover-fill-color: #174EA6;\n",
              "      --disabled-fill-color: #AAA;\n",
              "      --disabled-bg-color: #DDD;\n",
              "  }\n",
              "\n",
              "  [theme=dark] .colab-df-quickchart {\n",
              "      --bg-color: #3B4455;\n",
              "      --fill-color: #D2E3FC;\n",
              "      --hover-bg-color: #434B5C;\n",
              "      --hover-fill-color: #FFFFFF;\n",
              "      --disabled-bg-color: #3B4455;\n",
              "      --disabled-fill-color: #666;\n",
              "  }\n",
              "\n",
              "  .colab-df-quickchart {\n",
              "    background-color: var(--bg-color);\n",
              "    border: none;\n",
              "    border-radius: 50%;\n",
              "    cursor: pointer;\n",
              "    display: none;\n",
              "    fill: var(--fill-color);\n",
              "    height: 32px;\n",
              "    padding: 0;\n",
              "    width: 32px;\n",
              "  }\n",
              "\n",
              "  .colab-df-quickchart:hover {\n",
              "    background-color: var(--hover-bg-color);\n",
              "    box-shadow: 0 1px 2px rgba(60, 64, 67, 0.3), 0 1px 3px 1px rgba(60, 64, 67, 0.15);\n",
              "    fill: var(--button-hover-fill-color);\n",
              "  }\n",
              "\n",
              "  .colab-df-quickchart-complete:disabled,\n",
              "  .colab-df-quickchart-complete:disabled:hover {\n",
              "    background-color: var(--disabled-bg-color);\n",
              "    fill: var(--disabled-fill-color);\n",
              "    box-shadow: none;\n",
              "  }\n",
              "\n",
              "  .colab-df-spinner {\n",
              "    border: 2px solid var(--fill-color);\n",
              "    border-color: transparent;\n",
              "    border-bottom-color: var(--fill-color);\n",
              "    animation:\n",
              "      spin 1s steps(1) infinite;\n",
              "  }\n",
              "\n",
              "  @keyframes spin {\n",
              "    0% {\n",
              "      border-color: transparent;\n",
              "      border-bottom-color: var(--fill-color);\n",
              "      border-left-color: var(--fill-color);\n",
              "    }\n",
              "    20% {\n",
              "      border-color: transparent;\n",
              "      border-left-color: var(--fill-color);\n",
              "      border-top-color: var(--fill-color);\n",
              "    }\n",
              "    30% {\n",
              "      border-color: transparent;\n",
              "      border-left-color: var(--fill-color);\n",
              "      border-top-color: var(--fill-color);\n",
              "      border-right-color: var(--fill-color);\n",
              "    }\n",
              "    40% {\n",
              "      border-color: transparent;\n",
              "      border-right-color: var(--fill-color);\n",
              "      border-top-color: var(--fill-color);\n",
              "    }\n",
              "    60% {\n",
              "      border-color: transparent;\n",
              "      border-right-color: var(--fill-color);\n",
              "    }\n",
              "    80% {\n",
              "      border-color: transparent;\n",
              "      border-right-color: var(--fill-color);\n",
              "      border-bottom-color: var(--fill-color);\n",
              "    }\n",
              "    90% {\n",
              "      border-color: transparent;\n",
              "      border-bottom-color: var(--fill-color);\n",
              "    }\n",
              "  }\n",
              "</style>\n",
              "\n",
              "  <script>\n",
              "    async function quickchart(key) {\n",
              "      const quickchartButtonEl =\n",
              "        document.querySelector('#' + key + ' button');\n",
              "      quickchartButtonEl.disabled = true;  // To prevent multiple clicks.\n",
              "      quickchartButtonEl.classList.add('colab-df-spinner');\n",
              "      try {\n",
              "        const charts = await google.colab.kernel.invokeFunction(\n",
              "            'suggestCharts', [key], {});\n",
              "      } catch (error) {\n",
              "        console.error('Error during call to suggestCharts:', error);\n",
              "      }\n",
              "      quickchartButtonEl.classList.remove('colab-df-spinner');\n",
              "      quickchartButtonEl.classList.add('colab-df-quickchart-complete');\n",
              "    }\n",
              "    (() => {\n",
              "      let quickchartButtonEl =\n",
              "        document.querySelector('#df-c2719e01-9fc0-4aa0-bd3e-0386fa7234de button');\n",
              "      quickchartButtonEl.style.display =\n",
              "        google.colab.kernel.accessAllowed ? 'block' : 'none';\n",
              "    })();\n",
              "  </script>\n",
              "</div>\n",
              "\n",
              "    </div>\n",
              "  </div>\n"
            ],
            "text/plain": [
              "   Pregnancies  Glucose  BloodPressure  SkinThickness  Insulin   BMI  \\\n",
              "0            6      148             72             35        0  33.6   \n",
              "1            1       85             66             29        0  26.6   \n",
              "2            8      183             64              0        0  23.3   \n",
              "3            1       89             66             23       94  28.1   \n",
              "4            0      137             40             35      168  43.1   \n",
              "\n",
              "   DiabetesPedigreeFunction  Age  Outcome  \n",
              "0                     0.627   50        1  \n",
              "1                     0.351   31        0  \n",
              "2                     0.672   32        1  \n",
              "3                     0.167   21        0  \n",
              "4                     2.288   33        1  "
            ]
          },
          "execution_count": 2,
          "metadata": {},
          "output_type": "execute_result"
        }
      ],
      "source": [
        "data=pd.read_csv(\"/content/drive/MyDrive/DL/2/diabetes.csv\")\n",
        "data.head()"
      ]
    },
    {
      "cell_type": "code",
      "execution_count": null,
      "metadata": {
        "id": "fEyfAoYsdZds"
      },
      "outputs": [],
      "source": [
        "X=data.iloc[:,:-1].values\n",
        "Y=data.iloc[:,-1].values"
      ]
    },
    {
      "cell_type": "code",
      "execution_count": null,
      "metadata": {
        "id": "tqVFfcHbd2Ss"
      },
      "outputs": [],
      "source": [
        "from sklearn.preprocessing import StandardScaler\n",
        "SS=StandardScaler()\n",
        "X=SS.fit_transform(X)"
      ]
    },
    {
      "cell_type": "code",
      "execution_count": null,
      "metadata": {
        "colab": {
          "base_uri": "https://localhost:8080/"
        },
        "id": "Z05AmjqLeZ0V",
        "outputId": "3cd3d169-2bf3-4632-b568-294c14de4ce0"
      },
      "outputs": [
        {
          "data": {
            "text/plain": [
              "(768, 8)"
            ]
          },
          "execution_count": 5,
          "metadata": {},
          "output_type": "execute_result"
        }
      ],
      "source": [
        "X.shape"
      ]
    },
    {
      "cell_type": "code",
      "execution_count": null,
      "metadata": {
        "id": "pTJEhq0eegmj"
      },
      "outputs": [],
      "source": [
        "from sklearn.model_selection import train_test_split\n",
        "X_train, X_test, Y_train, Y_test = train_test_split(X, Y, test_size = 0.2, random_state = 0)"
      ]
    },
    {
      "cell_type": "code",
      "execution_count": null,
      "metadata": {
        "colab": {
          "base_uri": "https://localhost:8080/"
        },
        "id": "s7QAd8Sie1D7",
        "outputId": "dffb8259-5525-4aa6-f91f-976822f9afb3"
      },
      "outputs": [
        {
          "name": "stdout",
          "output_type": "stream",
          "text": [
            "Model: \"sequential\"\n",
            "_________________________________________________________________\n",
            " Layer (type)                Output Shape              Param #   \n",
            "=================================================================\n",
            " dense (Dense)               (None, 32)                288       \n",
            "                                                                 \n",
            " dense_1 (Dense)             (None, 4)                 132       \n",
            "                                                                 \n",
            " dense_2 (Dense)             (None, 1)                 5         \n",
            "                                                                 \n",
            "=================================================================\n",
            "Total params: 425 (1.66 KB)\n",
            "Trainable params: 425 (1.66 KB)\n",
            "Non-trainable params: 0 (0.00 Byte)\n",
            "_________________________________________________________________\n"
          ]
        }
      ],
      "source": [
        "model=Sequential()\n",
        "model.add(Dense(32,activation='relu',input_dim=8))\n",
        "model.add(Dense(4,activation='relu'))\n",
        "model.add(Dense(1,activation='sigmoid'))\n",
        "model.summary()"
      ]
    },
    {
      "cell_type": "code",
      "execution_count": null,
      "metadata": {
        "colab": {
          "base_uri": "https://localhost:8080/"
        },
        "id": "BU7feOYffD9Z",
        "outputId": "c6eff336-6e86-40e5-da63-80645d87c902"
      },
      "outputs": [
        {
          "name": "stdout",
          "output_type": "stream",
          "text": [
            "Epoch 1/100\n",
            "20/20 [==============================] - 3s 15ms/step - loss: 0.6957 - accuracy: 0.5554 - val_loss: 0.6942 - val_accuracy: 0.6299\n",
            "Epoch 2/100\n",
            "20/20 [==============================] - 0s 6ms/step - loss: 0.6709 - accuracy: 0.6645 - val_loss: 0.6731 - val_accuracy: 0.7013\n",
            "Epoch 3/100\n",
            "20/20 [==============================] - 0s 5ms/step - loss: 0.6545 - accuracy: 0.7101 - val_loss: 0.6554 - val_accuracy: 0.7468\n",
            "Epoch 4/100\n",
            "20/20 [==============================] - 0s 8ms/step - loss: 0.6385 - accuracy: 0.7264 - val_loss: 0.6350 - val_accuracy: 0.7727\n",
            "Epoch 5/100\n",
            "20/20 [==============================] - 0s 7ms/step - loss: 0.6189 - accuracy: 0.7557 - val_loss: 0.6142 - val_accuracy: 0.7922\n",
            "Epoch 6/100\n",
            "20/20 [==============================] - 0s 8ms/step - loss: 0.5983 - accuracy: 0.7655 - val_loss: 0.5926 - val_accuracy: 0.8052\n",
            "Epoch 7/100\n",
            "20/20 [==============================] - 0s 7ms/step - loss: 0.5776 - accuracy: 0.7655 - val_loss: 0.5726 - val_accuracy: 0.7987\n",
            "Epoch 8/100\n",
            "20/20 [==============================] - 0s 7ms/step - loss: 0.5574 - accuracy: 0.7704 - val_loss: 0.5506 - val_accuracy: 0.7987\n",
            "Epoch 9/100\n",
            "20/20 [==============================] - 0s 7ms/step - loss: 0.5388 - accuracy: 0.7720 - val_loss: 0.5303 - val_accuracy: 0.8052\n",
            "Epoch 10/100\n",
            "20/20 [==============================] - 0s 7ms/step - loss: 0.5221 - accuracy: 0.7622 - val_loss: 0.5143 - val_accuracy: 0.8052\n",
            "Epoch 11/100\n",
            "20/20 [==============================] - 0s 7ms/step - loss: 0.5074 - accuracy: 0.7655 - val_loss: 0.5004 - val_accuracy: 0.8117\n",
            "Epoch 12/100\n",
            "20/20 [==============================] - 0s 8ms/step - loss: 0.4958 - accuracy: 0.7671 - val_loss: 0.4892 - val_accuracy: 0.8117\n",
            "Epoch 13/100\n",
            "20/20 [==============================] - 0s 7ms/step - loss: 0.4857 - accuracy: 0.7736 - val_loss: 0.4823 - val_accuracy: 0.8117\n",
            "Epoch 14/100\n",
            "20/20 [==============================] - 0s 8ms/step - loss: 0.4770 - accuracy: 0.7752 - val_loss: 0.4765 - val_accuracy: 0.8182\n",
            "Epoch 15/100\n",
            "20/20 [==============================] - 0s 7ms/step - loss: 0.4714 - accuracy: 0.7720 - val_loss: 0.4705 - val_accuracy: 0.8182\n",
            "Epoch 16/100\n",
            "20/20 [==============================] - 0s 8ms/step - loss: 0.4670 - accuracy: 0.7785 - val_loss: 0.4634 - val_accuracy: 0.8182\n",
            "Epoch 17/100\n",
            "20/20 [==============================] - 0s 8ms/step - loss: 0.4615 - accuracy: 0.7687 - val_loss: 0.4601 - val_accuracy: 0.8117\n",
            "Epoch 18/100\n",
            "20/20 [==============================] - 0s 8ms/step - loss: 0.4582 - accuracy: 0.7752 - val_loss: 0.4585 - val_accuracy: 0.8117\n",
            "Epoch 19/100\n",
            "20/20 [==============================] - 0s 8ms/step - loss: 0.4558 - accuracy: 0.7752 - val_loss: 0.4549 - val_accuracy: 0.8117\n",
            "Epoch 20/100\n",
            "20/20 [==============================] - 0s 18ms/step - loss: 0.4533 - accuracy: 0.7752 - val_loss: 0.4535 - val_accuracy: 0.8052\n",
            "Epoch 21/100\n",
            "20/20 [==============================] - 0s 15ms/step - loss: 0.4511 - accuracy: 0.7752 - val_loss: 0.4521 - val_accuracy: 0.8182\n",
            "Epoch 22/100\n",
            "20/20 [==============================] - 0s 15ms/step - loss: 0.4487 - accuracy: 0.7801 - val_loss: 0.4519 - val_accuracy: 0.8247\n",
            "Epoch 23/100\n",
            "20/20 [==============================] - 0s 17ms/step - loss: 0.4463 - accuracy: 0.7801 - val_loss: 0.4513 - val_accuracy: 0.8247\n",
            "Epoch 24/100\n",
            "20/20 [==============================] - 0s 14ms/step - loss: 0.4447 - accuracy: 0.7834 - val_loss: 0.4511 - val_accuracy: 0.8182\n",
            "Epoch 25/100\n",
            "20/20 [==============================] - 0s 14ms/step - loss: 0.4438 - accuracy: 0.7915 - val_loss: 0.4523 - val_accuracy: 0.8247\n",
            "Epoch 26/100\n",
            "20/20 [==============================] - 0s 14ms/step - loss: 0.4421 - accuracy: 0.7899 - val_loss: 0.4486 - val_accuracy: 0.8312\n",
            "Epoch 27/100\n",
            "20/20 [==============================] - 0s 15ms/step - loss: 0.4407 - accuracy: 0.7850 - val_loss: 0.4488 - val_accuracy: 0.8247\n",
            "Epoch 28/100\n",
            "20/20 [==============================] - 0s 13ms/step - loss: 0.4394 - accuracy: 0.7818 - val_loss: 0.4500 - val_accuracy: 0.8182\n",
            "Epoch 29/100\n",
            "20/20 [==============================] - 0s 18ms/step - loss: 0.4384 - accuracy: 0.7850 - val_loss: 0.4483 - val_accuracy: 0.8377\n",
            "Epoch 30/100\n",
            "20/20 [==============================] - 0s 15ms/step - loss: 0.4372 - accuracy: 0.7915 - val_loss: 0.4539 - val_accuracy: 0.8182\n",
            "Epoch 31/100\n",
            "20/20 [==============================] - 0s 8ms/step - loss: 0.4370 - accuracy: 0.7899 - val_loss: 0.4522 - val_accuracy: 0.8182\n",
            "Epoch 32/100\n",
            "20/20 [==============================] - 0s 9ms/step - loss: 0.4348 - accuracy: 0.7834 - val_loss: 0.4530 - val_accuracy: 0.8182\n",
            "Epoch 33/100\n",
            "20/20 [==============================] - 0s 10ms/step - loss: 0.4331 - accuracy: 0.7915 - val_loss: 0.4508 - val_accuracy: 0.8182\n",
            "Epoch 34/100\n",
            "20/20 [==============================] - 0s 9ms/step - loss: 0.4330 - accuracy: 0.7932 - val_loss: 0.4539 - val_accuracy: 0.8182\n",
            "Epoch 35/100\n",
            "20/20 [==============================] - 0s 9ms/step - loss: 0.4311 - accuracy: 0.7964 - val_loss: 0.4515 - val_accuracy: 0.8182\n",
            "Epoch 36/100\n",
            "20/20 [==============================] - 0s 14ms/step - loss: 0.4308 - accuracy: 0.7964 - val_loss: 0.4526 - val_accuracy: 0.8247\n",
            "Epoch 37/100\n",
            "20/20 [==============================] - 0s 9ms/step - loss: 0.4301 - accuracy: 0.7980 - val_loss: 0.4551 - val_accuracy: 0.8182\n",
            "Epoch 38/100\n",
            "20/20 [==============================] - 0s 8ms/step - loss: 0.4284 - accuracy: 0.7980 - val_loss: 0.4545 - val_accuracy: 0.8182\n",
            "Epoch 39/100\n",
            "20/20 [==============================] - 0s 8ms/step - loss: 0.4276 - accuracy: 0.7948 - val_loss: 0.4581 - val_accuracy: 0.8117\n",
            "Epoch 40/100\n",
            "20/20 [==============================] - 0s 7ms/step - loss: 0.4264 - accuracy: 0.8013 - val_loss: 0.4535 - val_accuracy: 0.8182\n",
            "Epoch 41/100\n",
            "20/20 [==============================] - 0s 9ms/step - loss: 0.4256 - accuracy: 0.8029 - val_loss: 0.4547 - val_accuracy: 0.8247\n",
            "Epoch 42/100\n",
            "20/20 [==============================] - 0s 10ms/step - loss: 0.4249 - accuracy: 0.7980 - val_loss: 0.4502 - val_accuracy: 0.8312\n",
            "Epoch 43/100\n",
            "20/20 [==============================] - 0s 9ms/step - loss: 0.4238 - accuracy: 0.7899 - val_loss: 0.4531 - val_accuracy: 0.8247\n",
            "Epoch 44/100\n",
            "20/20 [==============================] - 0s 9ms/step - loss: 0.4234 - accuracy: 0.7997 - val_loss: 0.4556 - val_accuracy: 0.8182\n",
            "Epoch 45/100\n",
            "20/20 [==============================] - 0s 8ms/step - loss: 0.4219 - accuracy: 0.7980 - val_loss: 0.4555 - val_accuracy: 0.8182\n",
            "Epoch 46/100\n",
            "20/20 [==============================] - 0s 10ms/step - loss: 0.4211 - accuracy: 0.7964 - val_loss: 0.4546 - val_accuracy: 0.8182\n",
            "Epoch 47/100\n",
            "20/20 [==============================] - 0s 11ms/step - loss: 0.4208 - accuracy: 0.8029 - val_loss: 0.4557 - val_accuracy: 0.8182\n",
            "Epoch 48/100\n",
            "20/20 [==============================] - 0s 13ms/step - loss: 0.4195 - accuracy: 0.8029 - val_loss: 0.4575 - val_accuracy: 0.8182\n",
            "Epoch 49/100\n",
            "20/20 [==============================] - 0s 12ms/step - loss: 0.4189 - accuracy: 0.8013 - val_loss: 0.4561 - val_accuracy: 0.8247\n",
            "Epoch 50/100\n",
            "20/20 [==============================] - 0s 9ms/step - loss: 0.4176 - accuracy: 0.7997 - val_loss: 0.4585 - val_accuracy: 0.8117\n",
            "Epoch 51/100\n",
            "20/20 [==============================] - 0s 11ms/step - loss: 0.4174 - accuracy: 0.8062 - val_loss: 0.4566 - val_accuracy: 0.8182\n",
            "Epoch 52/100\n",
            "20/20 [==============================] - 0s 10ms/step - loss: 0.4171 - accuracy: 0.8046 - val_loss: 0.4582 - val_accuracy: 0.8117\n",
            "Epoch 53/100\n",
            "20/20 [==============================] - 0s 9ms/step - loss: 0.4164 - accuracy: 0.8111 - val_loss: 0.4559 - val_accuracy: 0.8182\n",
            "Epoch 54/100\n",
            "20/20 [==============================] - 0s 8ms/step - loss: 0.4143 - accuracy: 0.8143 - val_loss: 0.4567 - val_accuracy: 0.8182\n",
            "Epoch 55/100\n",
            "20/20 [==============================] - 0s 12ms/step - loss: 0.4147 - accuracy: 0.8078 - val_loss: 0.4580 - val_accuracy: 0.8052\n",
            "Epoch 56/100\n",
            "20/20 [==============================] - 0s 10ms/step - loss: 0.4132 - accuracy: 0.8062 - val_loss: 0.4601 - val_accuracy: 0.7987\n",
            "Epoch 57/100\n",
            "20/20 [==============================] - 0s 9ms/step - loss: 0.4126 - accuracy: 0.8062 - val_loss: 0.4610 - val_accuracy: 0.8052\n",
            "Epoch 58/100\n",
            "20/20 [==============================] - 0s 9ms/step - loss: 0.4139 - accuracy: 0.8078 - val_loss: 0.4591 - val_accuracy: 0.8182\n",
            "Epoch 59/100\n",
            "20/20 [==============================] - 0s 16ms/step - loss: 0.4126 - accuracy: 0.8046 - val_loss: 0.4606 - val_accuracy: 0.8117\n",
            "Epoch 60/100\n",
            "20/20 [==============================] - 0s 17ms/step - loss: 0.4109 - accuracy: 0.8094 - val_loss: 0.4597 - val_accuracy: 0.8117\n",
            "Epoch 61/100\n",
            "20/20 [==============================] - 0s 11ms/step - loss: 0.4102 - accuracy: 0.8111 - val_loss: 0.4572 - val_accuracy: 0.8247\n",
            "Epoch 62/100\n",
            "20/20 [==============================] - 0s 10ms/step - loss: 0.4088 - accuracy: 0.8127 - val_loss: 0.4570 - val_accuracy: 0.8182\n",
            "Epoch 63/100\n",
            "20/20 [==============================] - 0s 8ms/step - loss: 0.4086 - accuracy: 0.8078 - val_loss: 0.4556 - val_accuracy: 0.8182\n",
            "Epoch 64/100\n",
            "20/20 [==============================] - 0s 11ms/step - loss: 0.4088 - accuracy: 0.8094 - val_loss: 0.4584 - val_accuracy: 0.8182\n",
            "Epoch 65/100\n",
            "20/20 [==============================] - 0s 9ms/step - loss: 0.4106 - accuracy: 0.7980 - val_loss: 0.4623 - val_accuracy: 0.8247\n",
            "Epoch 66/100\n",
            "20/20 [==============================] - 0s 13ms/step - loss: 0.4082 - accuracy: 0.8111 - val_loss: 0.4595 - val_accuracy: 0.8117\n",
            "Epoch 67/100\n",
            "20/20 [==============================] - 0s 11ms/step - loss: 0.4054 - accuracy: 0.8094 - val_loss: 0.4637 - val_accuracy: 0.8117\n",
            "Epoch 68/100\n",
            "20/20 [==============================] - 0s 11ms/step - loss: 0.4048 - accuracy: 0.8127 - val_loss: 0.4595 - val_accuracy: 0.8052\n",
            "Epoch 69/100\n",
            "20/20 [==============================] - 0s 9ms/step - loss: 0.4037 - accuracy: 0.8111 - val_loss: 0.4611 - val_accuracy: 0.8052\n",
            "Epoch 70/100\n",
            "20/20 [==============================] - 0s 10ms/step - loss: 0.4033 - accuracy: 0.8094 - val_loss: 0.4639 - val_accuracy: 0.8117\n",
            "Epoch 71/100\n",
            "20/20 [==============================] - 0s 23ms/step - loss: 0.4037 - accuracy: 0.8127 - val_loss: 0.4642 - val_accuracy: 0.7987\n",
            "Epoch 72/100\n",
            "20/20 [==============================] - 0s 15ms/step - loss: 0.4019 - accuracy: 0.8094 - val_loss: 0.4635 - val_accuracy: 0.7987\n",
            "Epoch 73/100\n",
            "20/20 [==============================] - 0s 13ms/step - loss: 0.4016 - accuracy: 0.8094 - val_loss: 0.4630 - val_accuracy: 0.8052\n",
            "Epoch 74/100\n",
            "20/20 [==============================] - 0s 9ms/step - loss: 0.4015 - accuracy: 0.8111 - val_loss: 0.4624 - val_accuracy: 0.8117\n",
            "Epoch 75/100\n",
            "20/20 [==============================] - 0s 14ms/step - loss: 0.3996 - accuracy: 0.8143 - val_loss: 0.4669 - val_accuracy: 0.8052\n",
            "Epoch 76/100\n",
            "20/20 [==============================] - 0s 13ms/step - loss: 0.3998 - accuracy: 0.8111 - val_loss: 0.4682 - val_accuracy: 0.8117\n",
            "Epoch 77/100\n",
            "20/20 [==============================] - 0s 24ms/step - loss: 0.3999 - accuracy: 0.8111 - val_loss: 0.4657 - val_accuracy: 0.8182\n",
            "Epoch 78/100\n",
            "20/20 [==============================] - 0s 14ms/step - loss: 0.3983 - accuracy: 0.8176 - val_loss: 0.4691 - val_accuracy: 0.7987\n",
            "Epoch 79/100\n",
            "20/20 [==============================] - 0s 13ms/step - loss: 0.3977 - accuracy: 0.8111 - val_loss: 0.4669 - val_accuracy: 0.8052\n",
            "Epoch 80/100\n",
            "20/20 [==============================] - 0s 16ms/step - loss: 0.3979 - accuracy: 0.8127 - val_loss: 0.4683 - val_accuracy: 0.8117\n",
            "Epoch 81/100\n",
            "20/20 [==============================] - 0s 16ms/step - loss: 0.3964 - accuracy: 0.8111 - val_loss: 0.4685 - val_accuracy: 0.8117\n",
            "Epoch 82/100\n",
            "20/20 [==============================] - 0s 23ms/step - loss: 0.3956 - accuracy: 0.8143 - val_loss: 0.4681 - val_accuracy: 0.8117\n",
            "Epoch 83/100\n",
            "20/20 [==============================] - 0s 20ms/step - loss: 0.3941 - accuracy: 0.8160 - val_loss: 0.4717 - val_accuracy: 0.8052\n",
            "Epoch 84/100\n",
            "20/20 [==============================] - 0s 14ms/step - loss: 0.3940 - accuracy: 0.8176 - val_loss: 0.4746 - val_accuracy: 0.7987\n",
            "Epoch 85/100\n",
            "20/20 [==============================] - 0s 17ms/step - loss: 0.3932 - accuracy: 0.8225 - val_loss: 0.4720 - val_accuracy: 0.7987\n",
            "Epoch 86/100\n",
            "20/20 [==============================] - 0s 15ms/step - loss: 0.3935 - accuracy: 0.8143 - val_loss: 0.4729 - val_accuracy: 0.8052\n",
            "Epoch 87/100\n",
            "20/20 [==============================] - 0s 17ms/step - loss: 0.3916 - accuracy: 0.8143 - val_loss: 0.4702 - val_accuracy: 0.7922\n",
            "Epoch 88/100\n",
            "20/20 [==============================] - 0s 21ms/step - loss: 0.3906 - accuracy: 0.8192 - val_loss: 0.4758 - val_accuracy: 0.7987\n",
            "Epoch 89/100\n",
            "20/20 [==============================] - 0s 23ms/step - loss: 0.3909 - accuracy: 0.8192 - val_loss: 0.4801 - val_accuracy: 0.7987\n",
            "Epoch 90/100\n",
            "20/20 [==============================] - 1s 26ms/step - loss: 0.3892 - accuracy: 0.8225 - val_loss: 0.4789 - val_accuracy: 0.7987\n",
            "Epoch 91/100\n",
            "20/20 [==============================] - 0s 18ms/step - loss: 0.3899 - accuracy: 0.8160 - val_loss: 0.4758 - val_accuracy: 0.7857\n",
            "Epoch 92/100\n",
            "20/20 [==============================] - 0s 13ms/step - loss: 0.3877 - accuracy: 0.8241 - val_loss: 0.4803 - val_accuracy: 0.7922\n",
            "Epoch 93/100\n",
            "20/20 [==============================] - 0s 12ms/step - loss: 0.3877 - accuracy: 0.8160 - val_loss: 0.4811 - val_accuracy: 0.7922\n",
            "Epoch 94/100\n",
            "20/20 [==============================] - 0s 14ms/step - loss: 0.3866 - accuracy: 0.8192 - val_loss: 0.4807 - val_accuracy: 0.7922\n",
            "Epoch 95/100\n",
            "20/20 [==============================] - 0s 13ms/step - loss: 0.3859 - accuracy: 0.8208 - val_loss: 0.4842 - val_accuracy: 0.7792\n",
            "Epoch 96/100\n",
            "20/20 [==============================] - 0s 16ms/step - loss: 0.3862 - accuracy: 0.8225 - val_loss: 0.4827 - val_accuracy: 0.7857\n",
            "Epoch 97/100\n",
            "20/20 [==============================] - 0s 5ms/step - loss: 0.3853 - accuracy: 0.8257 - val_loss: 0.4889 - val_accuracy: 0.7857\n",
            "Epoch 98/100\n",
            "20/20 [==============================] - 0s 6ms/step - loss: 0.3859 - accuracy: 0.8257 - val_loss: 0.4827 - val_accuracy: 0.7792\n",
            "Epoch 99/100\n",
            "20/20 [==============================] - 0s 5ms/step - loss: 0.3838 - accuracy: 0.8127 - val_loss: 0.4813 - val_accuracy: 0.7857\n",
            "Epoch 100/100\n",
            "20/20 [==============================] - 0s 5ms/step - loss: 0.3833 - accuracy: 0.8127 - val_loss: 0.4791 - val_accuracy: 0.7922\n"
          ]
        }
      ],
      "source": [
        "model.compile(optimizer='adam',loss='binary_crossentropy',metrics=['accuracy'])\n",
        "history=model.fit(X_train,Y_train,batch_size=32,validation_data=(X_test,Y_test),epochs=100)"
      ]
    },
    {
      "cell_type": "code",
      "execution_count": null,
      "metadata": {
        "colab": {
          "base_uri": "https://localhost:8080/",
          "height": 450
        },
        "id": "meUQsw5dfRgZ",
        "outputId": "23182441-2464-4ffc-83cf-00cdf857be4c"
      },
      "outputs": [
        {
          "data": {
            "text/plain": [
              "[<matplotlib.lines.Line2D at 0x7dc3c01a3580>]"
            ]
          },
          "execution_count": 9,
          "metadata": {},
          "output_type": "execute_result"
        },
        {
          "data": {
            "image/png": "[encoded data removed]",
            "text/plain": [
              "<Figure size 640x480 with 1 Axes>"
            ]
          },
          "metadata": {},
          "output_type": "display_data"
        }
      ],
      "source": [
        "plt.plot(history.history['accuracy'])\n",
        "plt.plot(history.history['val_accuracy'])"
      ]
    },
    {
      "cell_type": "code",
      "execution_count": null,
      "metadata": {
        "colab": {
          "base_uri": "https://localhost:8080/"
        },
        "id": "-bEtkTtLwYUV",
        "outputId": "bb59d299-d2ea-4d2d-d427-b29686b6cd4b"
      },
      "outputs": [
        {
          "name": "stdout",
          "output_type": "stream",
          "text": [
            "Collecting keras-tuner\n",
            "  Downloading keras_tuner-1.4.7-py3-none-any.whl (129 kB)\n",
            "\u001b[?25l     \u001b[90m━━━━━━━━━━━━━━━━━━━━━━━━━━━━━━━━━━━━━━━━\u001b[0m \u001b[32m0.0/129.1 kB\u001b[0m \u001b[31m?\u001b[0m eta \u001b[36m-:--:--\u001b[0m\r\u001b[2K     \u001b[90m━━━━━━━━━━━━━━━━━━━━━━━━━━━━━━━━━━━━━━━━\u001b[0m \u001b[32m129.1/129.1 kB\u001b[0m \u001b[31m4.3 MB/s\u001b[0m eta \u001b[36m0:00:00\u001b[0m\n",
            "\u001b[?25hRequirement already satisfied: keras in /usr/local/lib/python3.10/dist-packages (from keras-tuner) (2.15.0)\n",
            "Requirement already satisfied: packaging in /usr/local/lib/python3.10/dist-packages (from keras-tuner) (24.0)\n",
            "Requirement already satisfied: requests in /usr/local/lib/python3.10/dist-packages (from keras-tuner) (2.31.0)\n",
            "Collecting kt-legacy (from keras-tuner)\n",
            "  Downloading kt_legacy-1.0.5-py3-none-any.whl (9.6 kB)\n",
            "Requirement already satisfied: charset-normalizer<4,>=2 in /usr/local/lib/python3.10/dist-packages (from requests->keras-tuner) (3.3.2)\n",
            "Requirement already satisfied: idna<4,>=2.5 in /usr/local/lib/python3.10/dist-packages (from requests->keras-tuner) (3.7)\n",
            "Requirement already satisfied: urllib3<3,>=1.21.1 in /usr/local/lib/python3.10/dist-packages (from requests->keras-tuner) (2.0.7)\n",
            "Requirement already satisfied: certifi>=2017.4.17 in /usr/local/lib/python3.10/dist-packages (from requests->keras-tuner) (2024.2.2)\n",
            "Installing collected packages: kt-legacy, keras-tuner\n",
            "Successfully installed keras-tuner-1.4.7 kt-legacy-1.0.5\n"
          ]
        }
      ],
      "source": [
        "!pip install keras-tuner"
      ]
    },
    {
      "cell_type": "code",
      "execution_count": null,
      "metadata": {
        "id": "NlI6Vgfpg1c-"
      },
      "outputs": [],
      "source": [
        "import keras_tuner as kt"
      ]
    },
    {
      "cell_type": "markdown",
      "metadata": {
        "id": "5hDK7ImXxVI4"
      },
      "source": [
        "#Find best Optimizers"
      ]
    },
    {
      "cell_type": "code",
      "execution_count": null,
      "metadata": {
        "id": "8W761UMuhWEG"
      },
      "outputs": [],
      "source": [
        "def build_model(hp):\n",
        "    model=Sequential()\n",
        "    model.add(Dense(32,activation='relu',input_dim=8))\n",
        "    model.add(Dense(1,activation='sigmoid'))\n",
        "\n",
        "    option=hp.Choice('optimizer',values=['sgd','adam','adagrad','rmsprop'])\n",
        "\n",
        "    model.compile(optimizer=option,loss='binary_crossentropy',metrics=['accuracy'])\n",
        "    return model"
      ]
    },
    {
      "cell_type": "code",
      "execution_count": null,
      "metadata": {
        "id": "NUpX706gjsqU"
      },
      "outputs": [],
      "source": [
        "tuner = kt.RandomSearch(build_model,max_trials=8,objective='val_accuracy')"
      ]
    },
    {
      "cell_type": "code",
      "execution_count": null,
      "metadata": {
        "colab": {
          "base_uri": "https://localhost:8080/"
        },
        "id": "Up-IvRBokRU4",
        "outputId": "004c9666-1b57-40a1-b1c2-0fba77e86507"
      },
      "outputs": [
        {
          "name": "stdout",
          "output_type": "stream",
          "text": [
            "Trial 4 Complete [00h 00m 02s]\n",
            "val_accuracy: 0.7922077775001526\n",
            "\n",
            "Best val_accuracy So Far: 0.8376623392105103\n",
            "Total elapsed time: 00h 00m 13s\n"
          ]
        }
      ],
      "source": [
        "tuner.search(X_train,Y_train,epochs=10,validation_data=(X_test,Y_test))"
      ]
    },
    {
      "cell_type": "code",
      "execution_count": null,
      "metadata": {
        "colab": {
          "base_uri": "https://localhost:8080/"
        },
        "id": "XF3FlZurkjqn",
        "outputId": "ab619aaa-faad-4141-ad36-03df50a66076"
      },
      "outputs": [
        {
          "data": {
            "text/plain": [
              "{'optimizer': 'rmsprop'}"
            ]
          },
          "execution_count": 15,
          "metadata": {},
          "output_type": "execute_result"
        }
      ],
      "source": [
        "tuner.get_best_hyperparameters()[0].values"
      ]
    },
    {
      "cell_type": "code",
      "execution_count": null,
      "metadata": {
        "id": "uu2gE1FgkzmY"
      },
      "outputs": [],
      "source": [
        "best_model=tuner.get_best_models(num_models=1)[0]"
      ]
    },
    {
      "cell_type": "code",
      "execution_count": null,
      "metadata": {
        "colab": {
          "base_uri": "https://localhost:8080/"
        },
        "id": "HHhoMMUyk9AI",
        "outputId": "743156b9-4885-49b3-badb-009a788573db"
      },
      "outputs": [
        {
          "name": "stdout",
          "output_type": "stream",
          "text": [
            "Model: \"sequential\"\n",
            "_________________________________________________________________\n",
            " Layer (type)                Output Shape              Param #   \n",
            "=================================================================\n",
            " dense (Dense)               (None, 32)                288       \n",
            "                                                                 \n",
            " dense_1 (Dense)             (None, 1)                 33        \n",
            "                                                                 \n",
            "=================================================================\n",
            "Total params: 321 (1.25 KB)\n",
            "Trainable params: 321 (1.25 KB)\n",
            "Non-trainable params: 0 (0.00 Byte)\n",
            "_________________________________________________________________\n"
          ]
        }
      ],
      "source": [
        "best_model.summary()"
      ]
    },
    {
      "cell_type": "code",
      "execution_count": null,
      "metadata": {
        "id": "rFG8_JVPtNnH"
      },
      "outputs": [],
      "source": [
        "# best_model.get_weights()[0]"
      ]
    },
    {
      "cell_type": "markdown",
      "metadata": {
        "id": "XFkgcFCwtkRw"
      },
      "source": [
        "Now train best model for more epochs\n"
      ]
    },
    {
      "cell_type": "code",
      "execution_count": null,
      "metadata": {
        "colab": {
          "base_uri": "https://localhost:8080/"
        },
        "id": "OeNzDQEDtT-L",
        "outputId": "3fe266ec-4719-46c1-fc4f-63757aa5aad0"
      },
      "outputs": [
        {
          "name": "stdout",
          "output_type": "stream",
          "text": [
            "Epoch 12/100\n",
            "20/20 [==============================] - 1s 27ms/step - loss: 0.5062 - accuracy: 0.7622 - val_loss: 0.4648 - val_accuracy: 0.8377\n",
            "Epoch 13/100\n",
            "20/20 [==============================] - 0s 11ms/step - loss: 0.4995 - accuracy: 0.7638 - val_loss: 0.4569 - val_accuracy: 0.8377\n",
            "Epoch 14/100\n",
            "20/20 [==============================] - 0s 15ms/step - loss: 0.4940 - accuracy: 0.7655 - val_loss: 0.4524 - val_accuracy: 0.8377\n",
            "Epoch 15/100\n",
            "20/20 [==============================] - 0s 11ms/step - loss: 0.4896 - accuracy: 0.7590 - val_loss: 0.4459 - val_accuracy: 0.8442\n",
            "Epoch 16/100\n",
            "20/20 [==============================] - 0s 14ms/step - loss: 0.4858 - accuracy: 0.7622 - val_loss: 0.4421 - val_accuracy: 0.8377\n",
            "Epoch 17/100\n",
            "20/20 [==============================] - 0s 11ms/step - loss: 0.4831 - accuracy: 0.7638 - val_loss: 0.4392 - val_accuracy: 0.8442\n",
            "Epoch 18/100\n",
            "20/20 [==============================] - 0s 7ms/step - loss: 0.4804 - accuracy: 0.7671 - val_loss: 0.4368 - val_accuracy: 0.8377\n",
            "Epoch 19/100\n",
            "20/20 [==============================] - 0s 7ms/step - loss: 0.4780 - accuracy: 0.7671 - val_loss: 0.4351 - val_accuracy: 0.8377\n",
            "Epoch 20/100\n",
            "20/20 [==============================] - 0s 7ms/step - loss: 0.4760 - accuracy: 0.7638 - val_loss: 0.4340 - val_accuracy: 0.8377\n",
            "Epoch 21/100\n",
            "20/20 [==============================] - 0s 7ms/step - loss: 0.4737 - accuracy: 0.7606 - val_loss: 0.4319 - val_accuracy: 0.8377\n",
            "Epoch 22/100\n",
            "20/20 [==============================] - 0s 7ms/step - loss: 0.4725 - accuracy: 0.7638 - val_loss: 0.4299 - val_accuracy: 0.8442\n",
            "Epoch 23/100\n",
            "20/20 [==============================] - 0s 8ms/step - loss: 0.4708 - accuracy: 0.7704 - val_loss: 0.4285 - val_accuracy: 0.8442\n",
            "Epoch 24/100\n",
            "20/20 [==============================] - 0s 7ms/step - loss: 0.4694 - accuracy: 0.7704 - val_loss: 0.4283 - val_accuracy: 0.8442\n",
            "Epoch 25/100\n",
            "20/20 [==============================] - 0s 7ms/step - loss: 0.4684 - accuracy: 0.7671 - val_loss: 0.4284 - val_accuracy: 0.8377\n",
            "Epoch 26/100\n",
            "20/20 [==============================] - 0s 7ms/step - loss: 0.4666 - accuracy: 0.7687 - val_loss: 0.4285 - val_accuracy: 0.8312\n",
            "Epoch 27/100\n",
            "20/20 [==============================] - 0s 10ms/step - loss: 0.4663 - accuracy: 0.7720 - val_loss: 0.4292 - val_accuracy: 0.8312\n",
            "Epoch 28/100\n",
            "20/20 [==============================] - 0s 9ms/step - loss: 0.4646 - accuracy: 0.7720 - val_loss: 0.4275 - val_accuracy: 0.8312\n",
            "Epoch 29/100\n",
            "20/20 [==============================] - 0s 9ms/step - loss: 0.4643 - accuracy: 0.7736 - val_loss: 0.4270 - val_accuracy: 0.8312\n",
            "Epoch 30/100\n",
            "20/20 [==============================] - 0s 12ms/step - loss: 0.4626 - accuracy: 0.7720 - val_loss: 0.4279 - val_accuracy: 0.8312\n",
            "Epoch 31/100\n",
            "20/20 [==============================] - 0s 8ms/step - loss: 0.4616 - accuracy: 0.7720 - val_loss: 0.4270 - val_accuracy: 0.8247\n",
            "Epoch 32/100\n",
            "20/20 [==============================] - 0s 9ms/step - loss: 0.4612 - accuracy: 0.7704 - val_loss: 0.4265 - val_accuracy: 0.8312\n",
            "Epoch 33/100\n",
            "20/20 [==============================] - 0s 7ms/step - loss: 0.4603 - accuracy: 0.7736 - val_loss: 0.4265 - val_accuracy: 0.8247\n",
            "Epoch 34/100\n",
            "20/20 [==============================] - 0s 7ms/step - loss: 0.4591 - accuracy: 0.7752 - val_loss: 0.4268 - val_accuracy: 0.8247\n",
            "Epoch 35/100\n",
            "20/20 [==============================] - 0s 8ms/step - loss: 0.4582 - accuracy: 0.7687 - val_loss: 0.4268 - val_accuracy: 0.8312\n",
            "Epoch 36/100\n",
            "20/20 [==============================] - 0s 6ms/step - loss: 0.4572 - accuracy: 0.7769 - val_loss: 0.4273 - val_accuracy: 0.8182\n",
            "Epoch 37/100\n",
            "20/20 [==============================] - 0s 6ms/step - loss: 0.4564 - accuracy: 0.7687 - val_loss: 0.4280 - val_accuracy: 0.8182\n",
            "Epoch 38/100\n",
            "20/20 [==============================] - 0s 6ms/step - loss: 0.4559 - accuracy: 0.7736 - val_loss: 0.4279 - val_accuracy: 0.8117\n",
            "Epoch 39/100\n",
            "20/20 [==============================] - 0s 5ms/step - loss: 0.4552 - accuracy: 0.7736 - val_loss: 0.4270 - val_accuracy: 0.8182\n",
            "Epoch 40/100\n",
            "20/20 [==============================] - 0s 5ms/step - loss: 0.4542 - accuracy: 0.7736 - val_loss: 0.4271 - val_accuracy: 0.8247\n",
            "Epoch 41/100\n",
            "20/20 [==============================] - 0s 5ms/step - loss: 0.4535 - accuracy: 0.7785 - val_loss: 0.4281 - val_accuracy: 0.8117\n",
            "Epoch 42/100\n",
            "20/20 [==============================] - 0s 6ms/step - loss: 0.4532 - accuracy: 0.7834 - val_loss: 0.4275 - val_accuracy: 0.8247\n",
            "Epoch 43/100\n",
            "20/20 [==============================] - 0s 6ms/step - loss: 0.4523 - accuracy: 0.7801 - val_loss: 0.4270 - val_accuracy: 0.8247\n",
            "Epoch 44/100\n",
            "20/20 [==============================] - 0s 6ms/step - loss: 0.4515 - accuracy: 0.7834 - val_loss: 0.4279 - val_accuracy: 0.8182\n",
            "Epoch 45/100\n",
            "20/20 [==============================] - 0s 5ms/step - loss: 0.4510 - accuracy: 0.7801 - val_loss: 0.4285 - val_accuracy: 0.8182\n",
            "Epoch 46/100\n",
            "20/20 [==============================] - 0s 5ms/step - loss: 0.4504 - accuracy: 0.7801 - val_loss: 0.4285 - val_accuracy: 0.8117\n",
            "Epoch 47/100\n",
            "20/20 [==============================] - 0s 5ms/step - loss: 0.4499 - accuracy: 0.7834 - val_loss: 0.4283 - val_accuracy: 0.8247\n",
            "Epoch 48/100\n",
            "20/20 [==============================] - 0s 5ms/step - loss: 0.4489 - accuracy: 0.7818 - val_loss: 0.4283 - val_accuracy: 0.8182\n",
            "Epoch 49/100\n",
            "20/20 [==============================] - 0s 5ms/step - loss: 0.4483 - accuracy: 0.7834 - val_loss: 0.4293 - val_accuracy: 0.8117\n",
            "Epoch 50/100\n",
            "20/20 [==============================] - 0s 5ms/step - loss: 0.4479 - accuracy: 0.7818 - val_loss: 0.4295 - val_accuracy: 0.8247\n",
            "Epoch 51/100\n",
            "20/20 [==============================] - 0s 5ms/step - loss: 0.4469 - accuracy: 0.7850 - val_loss: 0.4305 - val_accuracy: 0.8247\n",
            "Epoch 52/100\n",
            "20/20 [==============================] - 0s 5ms/step - loss: 0.4459 - accuracy: 0.7866 - val_loss: 0.4299 - val_accuracy: 0.8247\n",
            "Epoch 53/100\n",
            "20/20 [==============================] - 0s 6ms/step - loss: 0.4457 - accuracy: 0.7899 - val_loss: 0.4311 - val_accuracy: 0.8247\n",
            "Epoch 54/100\n",
            "20/20 [==============================] - 0s 5ms/step - loss: 0.4455 - accuracy: 0.7899 - val_loss: 0.4324 - val_accuracy: 0.8117\n",
            "Epoch 55/100\n",
            "20/20 [==============================] - 0s 5ms/step - loss: 0.4449 - accuracy: 0.7866 - val_loss: 0.4323 - val_accuracy: 0.8117\n",
            "Epoch 56/100\n",
            "20/20 [==============================] - 0s 6ms/step - loss: 0.4442 - accuracy: 0.7866 - val_loss: 0.4329 - val_accuracy: 0.8117\n",
            "Epoch 57/100\n",
            "20/20 [==============================] - 0s 5ms/step - loss: 0.4437 - accuracy: 0.7850 - val_loss: 0.4324 - val_accuracy: 0.8117\n",
            "Epoch 58/100\n",
            "20/20 [==============================] - 0s 5ms/step - loss: 0.4424 - accuracy: 0.7883 - val_loss: 0.4321 - val_accuracy: 0.8247\n",
            "Epoch 59/100\n",
            "20/20 [==============================] - 0s 6ms/step - loss: 0.4424 - accuracy: 0.7899 - val_loss: 0.4332 - val_accuracy: 0.8182\n",
            "Epoch 60/100\n",
            "20/20 [==============================] - 0s 6ms/step - loss: 0.4420 - accuracy: 0.7866 - val_loss: 0.4333 - val_accuracy: 0.8182\n",
            "Epoch 61/100\n",
            "20/20 [==============================] - 0s 7ms/step - loss: 0.4409 - accuracy: 0.7915 - val_loss: 0.4330 - val_accuracy: 0.8182\n",
            "Epoch 62/100\n",
            "20/20 [==============================] - 0s 8ms/step - loss: 0.4409 - accuracy: 0.7866 - val_loss: 0.4346 - val_accuracy: 0.8247\n",
            "Epoch 63/100\n",
            "20/20 [==============================] - 0s 6ms/step - loss: 0.4403 - accuracy: 0.7883 - val_loss: 0.4332 - val_accuracy: 0.8182\n",
            "Epoch 64/100\n",
            "20/20 [==============================] - 0s 5ms/step - loss: 0.4395 - accuracy: 0.7932 - val_loss: 0.4322 - val_accuracy: 0.8182\n",
            "Epoch 65/100\n",
            "20/20 [==============================] - 0s 5ms/step - loss: 0.4392 - accuracy: 0.7915 - val_loss: 0.4342 - val_accuracy: 0.8182\n",
            "Epoch 66/100\n",
            "20/20 [==============================] - 0s 5ms/step - loss: 0.4387 - accuracy: 0.7883 - val_loss: 0.4360 - val_accuracy: 0.8182\n",
            "Epoch 67/100\n",
            "20/20 [==============================] - 0s 5ms/step - loss: 0.4381 - accuracy: 0.7850 - val_loss: 0.4352 - val_accuracy: 0.8182\n",
            "Epoch 68/100\n",
            "20/20 [==============================] - 0s 5ms/step - loss: 0.4377 - accuracy: 0.7883 - val_loss: 0.4344 - val_accuracy: 0.8182\n",
            "Epoch 69/100\n",
            "20/20 [==============================] - 0s 6ms/step - loss: 0.4370 - accuracy: 0.7866 - val_loss: 0.4342 - val_accuracy: 0.8182\n",
            "Epoch 70/100\n",
            "20/20 [==============================] - 0s 5ms/step - loss: 0.4370 - accuracy: 0.7899 - val_loss: 0.4359 - val_accuracy: 0.8182\n",
            "Epoch 71/100\n",
            "20/20 [==============================] - 0s 6ms/step - loss: 0.4365 - accuracy: 0.7850 - val_loss: 0.4373 - val_accuracy: 0.8247\n",
            "Epoch 72/100\n",
            "20/20 [==============================] - 0s 6ms/step - loss: 0.4357 - accuracy: 0.7850 - val_loss: 0.4374 - val_accuracy: 0.8247\n",
            "Epoch 73/100\n",
            "20/20 [==============================] - 0s 5ms/step - loss: 0.4355 - accuracy: 0.7866 - val_loss: 0.4376 - val_accuracy: 0.8247\n",
            "Epoch 74/100\n",
            "20/20 [==============================] - 0s 5ms/step - loss: 0.4353 - accuracy: 0.7834 - val_loss: 0.4372 - val_accuracy: 0.8182\n",
            "Epoch 75/100\n",
            "20/20 [==============================] - 0s 5ms/step - loss: 0.4347 - accuracy: 0.7883 - val_loss: 0.4372 - val_accuracy: 0.8182\n",
            "Epoch 76/100\n",
            "20/20 [==============================] - 0s 5ms/step - loss: 0.4343 - accuracy: 0.7866 - val_loss: 0.4363 - val_accuracy: 0.8182\n",
            "Epoch 77/100\n",
            "20/20 [==============================] - 0s 5ms/step - loss: 0.4339 - accuracy: 0.7899 - val_loss: 0.4358 - val_accuracy: 0.8182\n",
            "Epoch 78/100\n",
            "20/20 [==============================] - 0s 5ms/step - loss: 0.4333 - accuracy: 0.7850 - val_loss: 0.4375 - val_accuracy: 0.8182\n",
            "Epoch 79/100\n",
            "20/20 [==============================] - 0s 5ms/step - loss: 0.4335 - accuracy: 0.7866 - val_loss: 0.4367 - val_accuracy: 0.8182\n",
            "Epoch 80/100\n",
            "20/20 [==============================] - 0s 5ms/step - loss: 0.4326 - accuracy: 0.7883 - val_loss: 0.4366 - val_accuracy: 0.8182\n",
            "Epoch 81/100\n",
            "20/20 [==============================] - 0s 5ms/step - loss: 0.4321 - accuracy: 0.7899 - val_loss: 0.4370 - val_accuracy: 0.8182\n",
            "Epoch 82/100\n",
            "20/20 [==============================] - 0s 5ms/step - loss: 0.4321 - accuracy: 0.7866 - val_loss: 0.4368 - val_accuracy: 0.8182\n",
            "Epoch 83/100\n",
            "20/20 [==============================] - 0s 6ms/step - loss: 0.4315 - accuracy: 0.7883 - val_loss: 0.4367 - val_accuracy: 0.8182\n",
            "Epoch 84/100\n",
            "20/20 [==============================] - 0s 5ms/step - loss: 0.4310 - accuracy: 0.7915 - val_loss: 0.4378 - val_accuracy: 0.8182\n",
            "Epoch 85/100\n",
            "20/20 [==============================] - 0s 6ms/step - loss: 0.4310 - accuracy: 0.7899 - val_loss: 0.4362 - val_accuracy: 0.8182\n",
            "Epoch 86/100\n",
            "20/20 [==============================] - 0s 5ms/step - loss: 0.4299 - accuracy: 0.7883 - val_loss: 0.4371 - val_accuracy: 0.8182\n",
            "Epoch 87/100\n",
            "20/20 [==============================] - 0s 5ms/step - loss: 0.4298 - accuracy: 0.7915 - val_loss: 0.4369 - val_accuracy: 0.8182\n",
            "Epoch 88/100\n",
            "20/20 [==============================] - 0s 5ms/step - loss: 0.4297 - accuracy: 0.7899 - val_loss: 0.4381 - val_accuracy: 0.8182\n",
            "Epoch 89/100\n",
            "20/20 [==============================] - 0s 6ms/step - loss: 0.4295 - accuracy: 0.7964 - val_loss: 0.4382 - val_accuracy: 0.8117\n",
            "Epoch 90/100\n",
            "20/20 [==============================] - 0s 6ms/step - loss: 0.4293 - accuracy: 0.7948 - val_loss: 0.4378 - val_accuracy: 0.8182\n",
            "Epoch 91/100\n",
            "20/20 [==============================] - 0s 6ms/step - loss: 0.4285 - accuracy: 0.7980 - val_loss: 0.4375 - val_accuracy: 0.8182\n",
            "Epoch 92/100\n",
            "20/20 [==============================] - 0s 5ms/step - loss: 0.4280 - accuracy: 0.7932 - val_loss: 0.4385 - val_accuracy: 0.8182\n",
            "Epoch 93/100\n",
            "20/20 [==============================] - 0s 5ms/step - loss: 0.4279 - accuracy: 0.7899 - val_loss: 0.4384 - val_accuracy: 0.8247\n",
            "Epoch 94/100\n",
            "20/20 [==============================] - 0s 6ms/step - loss: 0.4274 - accuracy: 0.7850 - val_loss: 0.4398 - val_accuracy: 0.8247\n",
            "Epoch 95/100\n",
            "20/20 [==============================] - 0s 5ms/step - loss: 0.4267 - accuracy: 0.7948 - val_loss: 0.4390 - val_accuracy: 0.8182\n",
            "Epoch 96/100\n",
            "20/20 [==============================] - 0s 5ms/step - loss: 0.4270 - accuracy: 0.7948 - val_loss: 0.4398 - val_accuracy: 0.8182\n",
            "Epoch 97/100\n",
            "20/20 [==============================] - 0s 5ms/step - loss: 0.4259 - accuracy: 0.7964 - val_loss: 0.4408 - val_accuracy: 0.8182\n",
            "Epoch 98/100\n",
            "20/20 [==============================] - 0s 6ms/step - loss: 0.4258 - accuracy: 0.7932 - val_loss: 0.4404 - val_accuracy: 0.8247\n",
            "Epoch 99/100\n",
            "20/20 [==============================] - 0s 5ms/step - loss: 0.4252 - accuracy: 0.7964 - val_loss: 0.4404 - val_accuracy: 0.8247\n",
            "Epoch 100/100\n",
            "20/20 [==============================] - 0s 5ms/step - loss: 0.4250 - accuracy: 0.7980 - val_loss: 0.4404 - val_accuracy: 0.8182\n"
          ]
        }
      ],
      "source": [
        "history=best_model.fit(X_train,Y_train,epochs=100,initial_epoch=11,validation_data=(X_test,Y_test))"
      ]
    },
    {
      "cell_type": "code",
      "execution_count": null,
      "metadata": {
        "colab": {
          "base_uri": "https://localhost:8080/",
          "height": 447
        },
        "id": "CWV5ProztxWn",
        "outputId": "362a7445-9a0a-4959-c954-95dab0edafa2"
      },
      "outputs": [
        {
          "data": {
            "text/plain": [
              "[<matplotlib.lines.Line2D at 0x7dc3ac2c2560>]"
            ]
          },
          "execution_count": 20,
          "metadata": {},
          "output_type": "execute_result"
        },
        {
          "data": {
            "image/png": "[encoded data removed]",
            "text/plain": [
              "<Figure size 640x480 with 1 Axes>"
            ]
          },
          "metadata": {},
          "output_type": "display_data"
        }
      ],
      "source": [
        "plt.plot(history.history['accuracy'])\n",
        "plt.plot(history.history['val_accuracy'])"
      ]
    },
    {
      "cell_type": "markdown",
      "metadata": {
        "id": "9We7pTGQxYDt"
      },
      "source": [
        "#Find Number of neuron in layers"
      ]
    },
    {
      "cell_type": "code",
      "execution_count": null,
      "metadata": {
        "id": "8YQ0rtiVvElf"
      },
      "outputs": [],
      "source": [
        "def build_model(hp):\n",
        "    model=Sequential()\n",
        "    unit=hp.Int('units', min_value=8,max_value=128);\n",
        "    model.add(Dense(units=unit,activation='relu',input_dim=8))\n",
        "    model.add(Dense(1,activation='sigmoid'))\n",
        "    model.compile(optimizer='adam',loss='binary_crossentropy',metrics=['accuracy'])\n",
        "    return model"
      ]
    },
    {
      "cell_type": "code",
      "execution_count": null,
      "metadata": {
        "id": "1MVMhJDTx91f"
      },
      "outputs": [],
      "source": [
        "tuner_1=kt.RandomSearch(build_model,\n",
        "                        max_trials=5,\n",
        "                        objective='val_accuracy',\n",
        "                        directory='mydir',\n",
        "                        project_name='ayush')"
      ]
    },
    {
      "cell_type": "code",
      "execution_count": null,
      "metadata": {
        "colab": {
          "base_uri": "https://localhost:8080/"
        },
        "id": "JVKqtb4lyIdq",
        "outputId": "cf755e59-67e9-4c3f-f9c9-2acd73f924f8"
      },
      "outputs": [
        {
          "name": "stdout",
          "output_type": "stream",
          "text": [
            "Trial 5 Complete [00h 00m 02s]\n",
            "val_accuracy: 0.8181818127632141\n",
            "\n",
            "Best val_accuracy So Far: 0.8246753215789795\n",
            "Total elapsed time: 00h 00m 21s\n"
          ]
        }
      ],
      "source": [
        "tuner_1.search(X_train,Y_train,epochs=10,validation_data=(X_test,Y_test))"
      ]
    },
    {
      "cell_type": "code",
      "execution_count": null,
      "metadata": {
        "colab": {
          "base_uri": "https://localhost:8080/"
        },
        "id": "BM6-x2CuyaVZ",
        "outputId": "123e1815-2471-49df-baa5-c9986d306c6a"
      },
      "outputs": [
        {
          "data": {
            "text/plain": [
              "{'units': 124}"
            ]
          },
          "execution_count": 24,
          "metadata": {},
          "output_type": "execute_result"
        }
      ],
      "source": [
        "tuner_1.get_best_hyperparameters()[0].values"
      ]
    },
    {
      "cell_type": "code",
      "execution_count": null,
      "metadata": {
        "id": "q4Ph3bKxzzJe"
      },
      "outputs": [],
      "source": [
        "model_1=tuner_1.get_best_models(num_models=1)[0]"
      ]
    },
    {
      "cell_type": "code",
      "execution_count": null,
      "metadata": {
        "colab": {
          "base_uri": "https://localhost:8080/"
        },
        "id": "SBuGaLK_rWxq",
        "outputId": "ca53cc19-f4e7-4663-bb18-36904215dd8b"
      },
      "outputs": [
        {
          "name": "stdout",
          "output_type": "stream",
          "text": [
            "Epoch 12/100\n",
            "20/20 [==============================] - 1s 11ms/step - loss: 0.4639 - accuracy: 0.7671 - val_loss: 0.4198 - val_accuracy: 0.8247\n",
            "Epoch 13/100\n",
            "20/20 [==============================] - 0s 6ms/step - loss: 0.4627 - accuracy: 0.7671 - val_loss: 0.4168 - val_accuracy: 0.8312\n",
            "Epoch 14/100\n",
            "20/20 [==============================] - 0s 5ms/step - loss: 0.4581 - accuracy: 0.7704 - val_loss: 0.4201 - val_accuracy: 0.8182\n",
            "Epoch 15/100\n",
            "20/20 [==============================] - 0s 5ms/step - loss: 0.4565 - accuracy: 0.7752 - val_loss: 0.4203 - val_accuracy: 0.8247\n",
            "Epoch 16/100\n",
            "20/20 [==============================] - 0s 5ms/step - loss: 0.4551 - accuracy: 0.7720 - val_loss: 0.4179 - val_accuracy: 0.8247\n",
            "Epoch 17/100\n",
            "20/20 [==============================] - 0s 5ms/step - loss: 0.4526 - accuracy: 0.7671 - val_loss: 0.4161 - val_accuracy: 0.8182\n",
            "Epoch 18/100\n",
            "20/20 [==============================] - 0s 5ms/step - loss: 0.4513 - accuracy: 0.7736 - val_loss: 0.4180 - val_accuracy: 0.8052\n",
            "Epoch 19/100\n",
            "20/20 [==============================] - 0s 5ms/step - loss: 0.4492 - accuracy: 0.7785 - val_loss: 0.4182 - val_accuracy: 0.8052\n",
            "Epoch 20/100\n",
            "20/20 [==============================] - 0s 5ms/step - loss: 0.4482 - accuracy: 0.7736 - val_loss: 0.4193 - val_accuracy: 0.8052\n",
            "Epoch 21/100\n",
            "20/20 [==============================] - 0s 5ms/step - loss: 0.4465 - accuracy: 0.7769 - val_loss: 0.4196 - val_accuracy: 0.8117\n",
            "Epoch 22/100\n",
            "20/20 [==============================] - 0s 5ms/step - loss: 0.4446 - accuracy: 0.7850 - val_loss: 0.4206 - val_accuracy: 0.8117\n",
            "Epoch 23/100\n",
            "20/20 [==============================] - 0s 5ms/step - loss: 0.4438 - accuracy: 0.7785 - val_loss: 0.4249 - val_accuracy: 0.8117\n",
            "Epoch 24/100\n",
            "20/20 [==============================] - 0s 5ms/step - loss: 0.4415 - accuracy: 0.7818 - val_loss: 0.4228 - val_accuracy: 0.8182\n",
            "Epoch 25/100\n",
            "20/20 [==============================] - 0s 5ms/step - loss: 0.4405 - accuracy: 0.7850 - val_loss: 0.4215 - val_accuracy: 0.8247\n",
            "Epoch 26/100\n",
            "20/20 [==============================] - 0s 7ms/step - loss: 0.4395 - accuracy: 0.7866 - val_loss: 0.4253 - val_accuracy: 0.8182\n",
            "Epoch 27/100\n",
            "20/20 [==============================] - 0s 7ms/step - loss: 0.4378 - accuracy: 0.7866 - val_loss: 0.4247 - val_accuracy: 0.8182\n",
            "Epoch 28/100\n",
            "20/20 [==============================] - 0s 7ms/step - loss: 0.4365 - accuracy: 0.7932 - val_loss: 0.4249 - val_accuracy: 0.8117\n",
            "Epoch 29/100\n",
            "20/20 [==============================] - 0s 7ms/step - loss: 0.4346 - accuracy: 0.7915 - val_loss: 0.4298 - val_accuracy: 0.8052\n",
            "Epoch 30/100\n",
            "20/20 [==============================] - 0s 7ms/step - loss: 0.4342 - accuracy: 0.7834 - val_loss: 0.4278 - val_accuracy: 0.8117\n",
            "Epoch 31/100\n",
            "20/20 [==============================] - 0s 7ms/step - loss: 0.4332 - accuracy: 0.7850 - val_loss: 0.4329 - val_accuracy: 0.8117\n",
            "Epoch 32/100\n",
            "20/20 [==============================] - 0s 7ms/step - loss: 0.4328 - accuracy: 0.7883 - val_loss: 0.4323 - val_accuracy: 0.8117\n",
            "Epoch 33/100\n",
            "20/20 [==============================] - 0s 9ms/step - loss: 0.4304 - accuracy: 0.7948 - val_loss: 0.4318 - val_accuracy: 0.8117\n",
            "Epoch 34/100\n",
            "20/20 [==============================] - 0s 7ms/step - loss: 0.4292 - accuracy: 0.7932 - val_loss: 0.4302 - val_accuracy: 0.8117\n",
            "Epoch 35/100\n",
            "20/20 [==============================] - 0s 7ms/step - loss: 0.4283 - accuracy: 0.7997 - val_loss: 0.4305 - val_accuracy: 0.8117\n",
            "Epoch 36/100\n",
            "20/20 [==============================] - 0s 8ms/step - loss: 0.4274 - accuracy: 0.7899 - val_loss: 0.4320 - val_accuracy: 0.8117\n",
            "Epoch 37/100\n",
            "20/20 [==============================] - 0s 8ms/step - loss: 0.4271 - accuracy: 0.7915 - val_loss: 0.4335 - val_accuracy: 0.8117\n",
            "Epoch 38/100\n",
            "20/20 [==============================] - 0s 7ms/step - loss: 0.4249 - accuracy: 0.7964 - val_loss: 0.4352 - val_accuracy: 0.8182\n",
            "Epoch 39/100\n",
            "20/20 [==============================] - 0s 8ms/step - loss: 0.4251 - accuracy: 0.7964 - val_loss: 0.4324 - val_accuracy: 0.8117\n",
            "Epoch 40/100\n",
            "20/20 [==============================] - 0s 7ms/step - loss: 0.4241 - accuracy: 0.7964 - val_loss: 0.4339 - val_accuracy: 0.8117\n",
            "Epoch 41/100\n",
            "20/20 [==============================] - 0s 7ms/step - loss: 0.4222 - accuracy: 0.8013 - val_loss: 0.4352 - val_accuracy: 0.8052\n",
            "Epoch 42/100\n",
            "20/20 [==============================] - 0s 7ms/step - loss: 0.4231 - accuracy: 0.7948 - val_loss: 0.4359 - val_accuracy: 0.8117\n",
            "Epoch 43/100\n",
            "20/20 [==============================] - 0s 7ms/step - loss: 0.4202 - accuracy: 0.7964 - val_loss: 0.4353 - val_accuracy: 0.8117\n",
            "Epoch 44/100\n",
            "20/20 [==============================] - 0s 8ms/step - loss: 0.4203 - accuracy: 0.8013 - val_loss: 0.4358 - val_accuracy: 0.8117\n",
            "Epoch 45/100\n",
            "20/20 [==============================] - 0s 7ms/step - loss: 0.4200 - accuracy: 0.8013 - val_loss: 0.4361 - val_accuracy: 0.8182\n",
            "Epoch 46/100\n",
            "20/20 [==============================] - 0s 7ms/step - loss: 0.4180 - accuracy: 0.7997 - val_loss: 0.4346 - val_accuracy: 0.8052\n",
            "Epoch 47/100\n",
            "20/20 [==============================] - 0s 7ms/step - loss: 0.4178 - accuracy: 0.8078 - val_loss: 0.4308 - val_accuracy: 0.8052\n",
            "Epoch 48/100\n",
            "20/20 [==============================] - 0s 7ms/step - loss: 0.4170 - accuracy: 0.8029 - val_loss: 0.4341 - val_accuracy: 0.8052\n",
            "Epoch 49/100\n",
            "20/20 [==============================] - 0s 7ms/step - loss: 0.4184 - accuracy: 0.7980 - val_loss: 0.4432 - val_accuracy: 0.8117\n",
            "Epoch 50/100\n",
            "20/20 [==============================] - 0s 7ms/step - loss: 0.4155 - accuracy: 0.8046 - val_loss: 0.4374 - val_accuracy: 0.8312\n",
            "Epoch 51/100\n",
            "20/20 [==============================] - 0s 8ms/step - loss: 0.4147 - accuracy: 0.8046 - val_loss: 0.4355 - val_accuracy: 0.8182\n",
            "Epoch 52/100\n",
            "20/20 [==============================] - 0s 7ms/step - loss: 0.4142 - accuracy: 0.8029 - val_loss: 0.4387 - val_accuracy: 0.8247\n",
            "Epoch 53/100\n",
            "20/20 [==============================] - 0s 7ms/step - loss: 0.4144 - accuracy: 0.8046 - val_loss: 0.4401 - val_accuracy: 0.8117\n",
            "Epoch 54/100\n",
            "20/20 [==============================] - 0s 7ms/step - loss: 0.4123 - accuracy: 0.8078 - val_loss: 0.4406 - val_accuracy: 0.8247\n",
            "Epoch 55/100\n",
            "20/20 [==============================] - 0s 8ms/step - loss: 0.4119 - accuracy: 0.8013 - val_loss: 0.4406 - val_accuracy: 0.8117\n",
            "Epoch 56/100\n",
            "20/20 [==============================] - 0s 8ms/step - loss: 0.4111 - accuracy: 0.8029 - val_loss: 0.4445 - val_accuracy: 0.8247\n",
            "Epoch 57/100\n",
            "20/20 [==============================] - 0s 7ms/step - loss: 0.4110 - accuracy: 0.8029 - val_loss: 0.4409 - val_accuracy: 0.8247\n",
            "Epoch 58/100\n",
            "20/20 [==============================] - 0s 6ms/step - loss: 0.4091 - accuracy: 0.8029 - val_loss: 0.4434 - val_accuracy: 0.8247\n",
            "Epoch 59/100\n",
            "20/20 [==============================] - 0s 5ms/step - loss: 0.4096 - accuracy: 0.8046 - val_loss: 0.4411 - val_accuracy: 0.8182\n",
            "Epoch 60/100\n",
            "20/20 [==============================] - 0s 5ms/step - loss: 0.4076 - accuracy: 0.8078 - val_loss: 0.4401 - val_accuracy: 0.8182\n",
            "Epoch 61/100\n",
            "20/20 [==============================] - 0s 5ms/step - loss: 0.4081 - accuracy: 0.8111 - val_loss: 0.4394 - val_accuracy: 0.8247\n",
            "Epoch 62/100\n",
            "20/20 [==============================] - 0s 6ms/step - loss: 0.4084 - accuracy: 0.7997 - val_loss: 0.4457 - val_accuracy: 0.8247\n",
            "Epoch 63/100\n",
            "20/20 [==============================] - 0s 5ms/step - loss: 0.4069 - accuracy: 0.7980 - val_loss: 0.4492 - val_accuracy: 0.8182\n",
            "Epoch 64/100\n",
            "20/20 [==============================] - 0s 5ms/step - loss: 0.4086 - accuracy: 0.8127 - val_loss: 0.4438 - val_accuracy: 0.8247\n",
            "Epoch 65/100\n",
            "20/20 [==============================] - 0s 5ms/step - loss: 0.4060 - accuracy: 0.8111 - val_loss: 0.4436 - val_accuracy: 0.8182\n",
            "Epoch 66/100\n",
            "20/20 [==============================] - 0s 5ms/step - loss: 0.4046 - accuracy: 0.8078 - val_loss: 0.4449 - val_accuracy: 0.8247\n",
            "Epoch 67/100\n",
            "20/20 [==============================] - 0s 7ms/step - loss: 0.4045 - accuracy: 0.8078 - val_loss: 0.4437 - val_accuracy: 0.8247\n",
            "Epoch 68/100\n",
            "20/20 [==============================] - 0s 5ms/step - loss: 0.4030 - accuracy: 0.8143 - val_loss: 0.4445 - val_accuracy: 0.8247\n",
            "Epoch 69/100\n",
            "20/20 [==============================] - 0s 6ms/step - loss: 0.4038 - accuracy: 0.8127 - val_loss: 0.4455 - val_accuracy: 0.8247\n",
            "Epoch 70/100\n",
            "20/20 [==============================] - 0s 5ms/step - loss: 0.4025 - accuracy: 0.8062 - val_loss: 0.4474 - val_accuracy: 0.8312\n",
            "Epoch 71/100\n",
            "20/20 [==============================] - 0s 5ms/step - loss: 0.4019 - accuracy: 0.8192 - val_loss: 0.4496 - val_accuracy: 0.8247\n",
            "Epoch 72/100\n",
            "20/20 [==============================] - 0s 5ms/step - loss: 0.4015 - accuracy: 0.8143 - val_loss: 0.4486 - val_accuracy: 0.8247\n",
            "Epoch 73/100\n",
            "20/20 [==============================] - 0s 5ms/step - loss: 0.4005 - accuracy: 0.8111 - val_loss: 0.4493 - val_accuracy: 0.8247\n",
            "Epoch 74/100\n",
            "20/20 [==============================] - 0s 5ms/step - loss: 0.4009 - accuracy: 0.8160 - val_loss: 0.4475 - val_accuracy: 0.8182\n",
            "Epoch 75/100\n",
            "20/20 [==============================] - 0s 5ms/step - loss: 0.4010 - accuracy: 0.8176 - val_loss: 0.4412 - val_accuracy: 0.8182\n",
            "Epoch 76/100\n",
            "20/20 [==============================] - 0s 6ms/step - loss: 0.3987 - accuracy: 0.8127 - val_loss: 0.4466 - val_accuracy: 0.8182\n",
            "Epoch 77/100\n",
            "20/20 [==============================] - 0s 5ms/step - loss: 0.3980 - accuracy: 0.8176 - val_loss: 0.4452 - val_accuracy: 0.8312\n",
            "Epoch 78/100\n",
            "20/20 [==============================] - 0s 5ms/step - loss: 0.3981 - accuracy: 0.8160 - val_loss: 0.4465 - val_accuracy: 0.8182\n",
            "Epoch 79/100\n",
            "20/20 [==============================] - 0s 5ms/step - loss: 0.3965 - accuracy: 0.8208 - val_loss: 0.4467 - val_accuracy: 0.8247\n",
            "Epoch 80/100\n",
            "20/20 [==============================] - 0s 6ms/step - loss: 0.3959 - accuracy: 0.8176 - val_loss: 0.4472 - val_accuracy: 0.8182\n",
            "Epoch 81/100\n",
            "20/20 [==============================] - 0s 5ms/step - loss: 0.3958 - accuracy: 0.8192 - val_loss: 0.4479 - val_accuracy: 0.8182\n",
            "Epoch 82/100\n",
            "20/20 [==============================] - 0s 6ms/step - loss: 0.3957 - accuracy: 0.8208 - val_loss: 0.4514 - val_accuracy: 0.8247\n",
            "Epoch 83/100\n",
            "20/20 [==============================] - 0s 5ms/step - loss: 0.3956 - accuracy: 0.8225 - val_loss: 0.4513 - val_accuracy: 0.8182\n",
            "Epoch 84/100\n",
            "20/20 [==============================] - 0s 6ms/step - loss: 0.3943 - accuracy: 0.8241 - val_loss: 0.4513 - val_accuracy: 0.8117\n",
            "Epoch 85/100\n",
            "20/20 [==============================] - 0s 6ms/step - loss: 0.3965 - accuracy: 0.8160 - val_loss: 0.4518 - val_accuracy: 0.8247\n",
            "Epoch 86/100\n",
            "20/20 [==============================] - 0s 5ms/step - loss: 0.3930 - accuracy: 0.8160 - val_loss: 0.4568 - val_accuracy: 0.8117\n",
            "Epoch 87/100\n",
            "20/20 [==============================] - 0s 5ms/step - loss: 0.3924 - accuracy: 0.8208 - val_loss: 0.4513 - val_accuracy: 0.8117\n",
            "Epoch 88/100\n",
            "20/20 [==============================] - 0s 5ms/step - loss: 0.3934 - accuracy: 0.8208 - val_loss: 0.4505 - val_accuracy: 0.8182\n",
            "Epoch 89/100\n",
            "20/20 [==============================] - 0s 5ms/step - loss: 0.3926 - accuracy: 0.8225 - val_loss: 0.4549 - val_accuracy: 0.8182\n",
            "Epoch 90/100\n",
            "20/20 [==============================] - 0s 5ms/step - loss: 0.3912 - accuracy: 0.8192 - val_loss: 0.4521 - val_accuracy: 0.8182\n",
            "Epoch 91/100\n",
            "20/20 [==============================] - 0s 5ms/step - loss: 0.3894 - accuracy: 0.8127 - val_loss: 0.4514 - val_accuracy: 0.8182\n",
            "Epoch 92/100\n",
            "20/20 [==============================] - 0s 5ms/step - loss: 0.3895 - accuracy: 0.8241 - val_loss: 0.4524 - val_accuracy: 0.8182\n",
            "Epoch 93/100\n",
            "20/20 [==============================] - 0s 5ms/step - loss: 0.3905 - accuracy: 0.8160 - val_loss: 0.4568 - val_accuracy: 0.8182\n",
            "Epoch 94/100\n",
            "20/20 [==============================] - 0s 6ms/step - loss: 0.3888 - accuracy: 0.8176 - val_loss: 0.4513 - val_accuracy: 0.8182\n",
            "Epoch 95/100\n",
            "20/20 [==============================] - 0s 6ms/step - loss: 0.3884 - accuracy: 0.8176 - val_loss: 0.4522 - val_accuracy: 0.8182\n",
            "Epoch 96/100\n",
            "20/20 [==============================] - 0s 5ms/step - loss: 0.3874 - accuracy: 0.8160 - val_loss: 0.4546 - val_accuracy: 0.8182\n",
            "Epoch 97/100\n",
            "20/20 [==============================] - 0s 5ms/step - loss: 0.3900 - accuracy: 0.8257 - val_loss: 0.4571 - val_accuracy: 0.8247\n",
            "Epoch 98/100\n",
            "20/20 [==============================] - 0s 5ms/step - loss: 0.3879 - accuracy: 0.8208 - val_loss: 0.4574 - val_accuracy: 0.8182\n",
            "Epoch 99/100\n",
            "20/20 [==============================] - 0s 5ms/step - loss: 0.3865 - accuracy: 0.8208 - val_loss: 0.4563 - val_accuracy: 0.8117\n",
            "Epoch 100/100\n",
            "20/20 [==============================] - 0s 5ms/step - loss: 0.3879 - accuracy: 0.8176 - val_loss: 0.4544 - val_accuracy: 0.8247\n"
          ]
        },
        {
          "data": {
            "text/plain": [
              "<keras.src.callbacks.History at 0x7dc3ac350520>"
            ]
          },
          "execution_count": 26,
          "metadata": {},
          "output_type": "execute_result"
        }
      ],
      "source": [
        "model_1.fit(X_train,Y_train,epochs=100,initial_epoch=11,validation_data=(X_test,Y_test))"
      ]
    },
    {
      "cell_type": "markdown",
      "metadata": {
        "id": "lUER1lAZuTFe"
      },
      "source": [
        "##Num of layers"
      ]
    },
    {
      "cell_type": "code",
      "execution_count": null,
      "metadata": {
        "id": "wKizAKC4s5fg"
      },
      "outputs": [],
      "source": [
        "def build_model(hp):\n",
        "    model=Sequential()\n",
        "    model.add(Dense(128,activation='relu',input_dim=8))\n",
        "\n",
        "    for i in range(hp.Int('num_layers',min_value=1,max_value=10)):\n",
        "        model.add(Dense(128,activation='relu'))\n",
        "        model.add(Dropout(0.2))\n",
        "\n",
        "    model.add(Dense(1,activation='sigmoid'))\n",
        "\n",
        "    model.compile(loss='binary_crossentropy',optimizer='adam',metrics=['accuracy'])\n",
        "    return model"
      ]
    },
    {
      "cell_type": "code",
      "execution_count": null,
      "metadata": {
        "id": "E4B7UWJrv5va"
      },
      "outputs": [],
      "source": [
        "tuner=kt.RandomSearch(build_model,max_trials=3,objective='val_accuracy',directory='mydir',project_name='ayush1')"
      ]
    },
    {
      "cell_type": "code",
      "execution_count": null,
      "metadata": {
        "colab": {
          "base_uri": "https://localhost:8080/"
        },
        "id": "hercvF3FwFIF",
        "outputId": "d4aaf1c1-496d-4613-e170-034be7997f94"
      },
      "outputs": [
        {
          "name": "stdout",
          "output_type": "stream",
          "text": [
            "Trial 3 Complete [00h 00m 04s]\n",
            "val_accuracy: 0.8181818127632141\n",
            "\n",
            "Best val_accuracy So Far: 0.8246753215789795\n",
            "Total elapsed time: 00h 00m 14s\n"
          ]
        }
      ],
      "source": [
        "tuner.search(X_train,Y_train,epochs=5,validation_data=(X_test,Y_test));"
      ]
    },
    {
      "cell_type": "code",
      "execution_count": null,
      "metadata": {
        "colab": {
          "base_uri": "https://localhost:8080/"
        },
        "id": "7edZNIU7wNZc",
        "outputId": "5d4a7fdf-7550-4054-8567-18b46391b61e"
      },
      "outputs": [
        {
          "data": {
            "text/plain": [
              "{'num_layers': 3}"
            ]
          },
          "execution_count": 30,
          "metadata": {},
          "output_type": "execute_result"
        }
      ],
      "source": [
        "tuner.get_best_hyperparameters()[0].values"
      ]
    },
    {
      "cell_type": "code",
      "execution_count": null,
      "metadata": {
        "id": "Wn_LvqNIwYRa"
      },
      "outputs": [],
      "source": [
        "model=tuner.get_best_models(num_models=1)[0]"
      ]
    },
    {
      "cell_type": "code",
      "execution_count": null,
      "metadata": {
        "colab": {
          "base_uri": "https://localhost:8080/"
        },
        "id": "ydHURWVSwqKV",
        "outputId": "40648d33-e925-415a-a8fb-57fa33c1782e"
      },
      "outputs": [
        {
          "name": "stdout",
          "output_type": "stream",
          "text": [
            "Epoch 7/100\n",
            "20/20 [==============================] - 2s 15ms/step - loss: 0.4545 - accuracy: 0.7736 - val_loss: 0.4508 - val_accuracy: 0.7662\n",
            "Epoch 8/100\n",
            "20/20 [==============================] - 0s 6ms/step - loss: 0.4550 - accuracy: 0.7932 - val_loss: 0.4343 - val_accuracy: 0.8052\n",
            "Epoch 9/100\n",
            "20/20 [==============================] - 0s 6ms/step - loss: 0.4337 - accuracy: 0.7948 - val_loss: 0.4758 - val_accuracy: 0.7662\n",
            "Epoch 10/100\n",
            "20/20 [==============================] - 0s 6ms/step - loss: 0.4451 - accuracy: 0.7915 - val_loss: 0.4423 - val_accuracy: 0.8052\n",
            "Epoch 11/100\n",
            "20/20 [==============================] - 0s 7ms/step - loss: 0.4298 - accuracy: 0.7883 - val_loss: 0.4538 - val_accuracy: 0.7987\n",
            "Epoch 12/100\n",
            "20/20 [==============================] - 0s 7ms/step - loss: 0.4292 - accuracy: 0.8029 - val_loss: 0.4657 - val_accuracy: 0.7857\n",
            "Epoch 13/100\n",
            "20/20 [==============================] - 0s 7ms/step - loss: 0.4141 - accuracy: 0.8094 - val_loss: 0.4659 - val_accuracy: 0.7792\n",
            "Epoch 14/100\n",
            "20/20 [==============================] - 0s 6ms/step - loss: 0.4106 - accuracy: 0.8176 - val_loss: 0.4877 - val_accuracy: 0.7857\n",
            "Epoch 15/100\n",
            "20/20 [==============================] - 0s 6ms/step - loss: 0.3947 - accuracy: 0.8274 - val_loss: 0.4974 - val_accuracy: 0.7857\n",
            "Epoch 16/100\n",
            "20/20 [==============================] - 0s 6ms/step - loss: 0.3943 - accuracy: 0.8290 - val_loss: 0.4856 - val_accuracy: 0.7792\n",
            "Epoch 17/100\n",
            "20/20 [==============================] - 0s 6ms/step - loss: 0.3967 - accuracy: 0.8274 - val_loss: 0.4875 - val_accuracy: 0.7727\n",
            "Epoch 18/100\n",
            "20/20 [==============================] - 0s 6ms/step - loss: 0.3824 - accuracy: 0.8143 - val_loss: 0.5054 - val_accuracy: 0.7922\n",
            "Epoch 19/100\n",
            "20/20 [==============================] - 0s 6ms/step - loss: 0.3902 - accuracy: 0.8257 - val_loss: 0.5240 - val_accuracy: 0.7792\n",
            "Epoch 20/100\n",
            "20/20 [==============================] - 0s 6ms/step - loss: 0.3791 - accuracy: 0.8355 - val_loss: 0.5088 - val_accuracy: 0.7987\n",
            "Epoch 21/100\n",
            "20/20 [==============================] - 0s 6ms/step - loss: 0.3450 - accuracy: 0.8404 - val_loss: 0.5187 - val_accuracy: 0.7857\n",
            "Epoch 22/100\n",
            "20/20 [==============================] - 0s 6ms/step - loss: 0.3442 - accuracy: 0.8436 - val_loss: 0.5457 - val_accuracy: 0.7922\n",
            "Epoch 23/100\n",
            "20/20 [==============================] - 0s 6ms/step - loss: 0.3348 - accuracy: 0.8648 - val_loss: 0.5614 - val_accuracy: 0.7662\n",
            "Epoch 24/100\n",
            "20/20 [==============================] - 0s 6ms/step - loss: 0.3275 - accuracy: 0.8567 - val_loss: 0.5992 - val_accuracy: 0.7792\n",
            "Epoch 25/100\n",
            "20/20 [==============================] - 0s 6ms/step - loss: 0.3227 - accuracy: 0.8681 - val_loss: 0.5799 - val_accuracy: 0.7727\n",
            "Epoch 26/100\n",
            "20/20 [==============================] - 0s 7ms/step - loss: 0.3246 - accuracy: 0.8616 - val_loss: 0.5821 - val_accuracy: 0.7727\n",
            "Epoch 27/100\n",
            "20/20 [==============================] - 0s 6ms/step - loss: 0.2913 - accuracy: 0.8681 - val_loss: 0.6340 - val_accuracy: 0.7727\n",
            "Epoch 28/100\n",
            "20/20 [==============================] - 0s 6ms/step - loss: 0.3175 - accuracy: 0.8664 - val_loss: 0.6732 - val_accuracy: 0.7468\n",
            "Epoch 29/100\n",
            "20/20 [==============================] - 0s 7ms/step - loss: 0.2857 - accuracy: 0.8876 - val_loss: 0.6612 - val_accuracy: 0.7468\n",
            "Epoch 30/100\n",
            "20/20 [==============================] - 0s 9ms/step - loss: 0.2712 - accuracy: 0.8893 - val_loss: 0.7001 - val_accuracy: 0.7662\n",
            "Epoch 31/100\n",
            "20/20 [==============================] - 0s 9ms/step - loss: 0.2775 - accuracy: 0.8860 - val_loss: 0.6822 - val_accuracy: 0.7662\n",
            "Epoch 32/100\n",
            "20/20 [==============================] - 0s 9ms/step - loss: 0.2586 - accuracy: 0.8974 - val_loss: 0.7643 - val_accuracy: 0.7662\n",
            "Epoch 33/100\n",
            "20/20 [==============================] - 0s 8ms/step - loss: 0.2403 - accuracy: 0.9007 - val_loss: 0.7628 - val_accuracy: 0.7792\n",
            "Epoch 34/100\n",
            "20/20 [==============================] - 0s 8ms/step - loss: 0.2439 - accuracy: 0.9072 - val_loss: 0.7710 - val_accuracy: 0.7662\n",
            "Epoch 35/100\n",
            "20/20 [==============================] - 0s 8ms/step - loss: 0.2436 - accuracy: 0.8925 - val_loss: 0.7502 - val_accuracy: 0.7662\n",
            "Epoch 36/100\n",
            "20/20 [==============================] - 0s 8ms/step - loss: 0.2517 - accuracy: 0.9023 - val_loss: 0.7127 - val_accuracy: 0.7727\n",
            "Epoch 37/100\n",
            "20/20 [==============================] - 0s 9ms/step - loss: 0.2359 - accuracy: 0.9072 - val_loss: 0.7407 - val_accuracy: 0.7792\n",
            "Epoch 38/100\n",
            "20/20 [==============================] - 0s 9ms/step - loss: 0.2317 - accuracy: 0.8958 - val_loss: 0.7987 - val_accuracy: 0.7403\n",
            "Epoch 39/100\n",
            "20/20 [==============================] - 0s 8ms/step - loss: 0.2297 - accuracy: 0.9137 - val_loss: 0.8242 - val_accuracy: 0.7662\n",
            "Epoch 40/100\n",
            "20/20 [==============================] - 0s 8ms/step - loss: 0.2418 - accuracy: 0.8974 - val_loss: 0.7979 - val_accuracy: 0.7727\n",
            "Epoch 41/100\n",
            "20/20 [==============================] - 0s 9ms/step - loss: 0.2049 - accuracy: 0.9218 - val_loss: 0.8466 - val_accuracy: 0.7792\n",
            "Epoch 42/100\n",
            "20/20 [==============================] - 0s 8ms/step - loss: 0.1849 - accuracy: 0.9332 - val_loss: 0.9314 - val_accuracy: 0.7662\n",
            "Epoch 43/100\n",
            "20/20 [==============================] - 0s 9ms/step - loss: 0.1913 - accuracy: 0.9153 - val_loss: 0.9167 - val_accuracy: 0.7792\n",
            "Epoch 44/100\n",
            "20/20 [==============================] - 0s 8ms/step - loss: 0.1908 - accuracy: 0.9283 - val_loss: 0.8912 - val_accuracy: 0.7597\n",
            "Epoch 45/100\n",
            "20/20 [==============================] - 0s 9ms/step - loss: 0.1850 - accuracy: 0.9251 - val_loss: 0.9717 - val_accuracy: 0.7662\n",
            "Epoch 46/100\n",
            "20/20 [==============================] - 0s 9ms/step - loss: 0.2109 - accuracy: 0.9186 - val_loss: 1.0469 - val_accuracy: 0.7662\n",
            "Epoch 47/100\n",
            "20/20 [==============================] - 0s 10ms/step - loss: 0.1874 - accuracy: 0.9251 - val_loss: 1.0439 - val_accuracy: 0.7727\n",
            "Epoch 48/100\n",
            "20/20 [==============================] - 0s 12ms/step - loss: 0.1584 - accuracy: 0.9316 - val_loss: 1.0031 - val_accuracy: 0.7468\n",
            "Epoch 49/100\n",
            "20/20 [==============================] - 0s 9ms/step - loss: 0.1508 - accuracy: 0.9397 - val_loss: 0.9846 - val_accuracy: 0.7662\n",
            "Epoch 50/100\n",
            "20/20 [==============================] - 0s 9ms/step - loss: 0.1487 - accuracy: 0.9479 - val_loss: 1.1443 - val_accuracy: 0.7597\n",
            "Epoch 51/100\n",
            "20/20 [==============================] - 0s 11ms/step - loss: 0.1435 - accuracy: 0.9495 - val_loss: 1.0451 - val_accuracy: 0.7792\n",
            "Epoch 52/100\n",
            "20/20 [==============================] - 0s 9ms/step - loss: 0.1728 - accuracy: 0.9316 - val_loss: 1.1167 - val_accuracy: 0.7597\n",
            "Epoch 53/100\n",
            "20/20 [==============================] - 0s 10ms/step - loss: 0.1381 - accuracy: 0.9495 - val_loss: 1.1465 - val_accuracy: 0.7468\n",
            "Epoch 54/100\n",
            "20/20 [==============================] - 0s 7ms/step - loss: 0.1630 - accuracy: 0.9316 - val_loss: 1.0755 - val_accuracy: 0.7532\n",
            "Epoch 55/100\n",
            "20/20 [==============================] - 0s 6ms/step - loss: 0.1335 - accuracy: 0.9495 - val_loss: 1.0998 - val_accuracy: 0.7727\n",
            "Epoch 56/100\n",
            "20/20 [==============================] - 0s 7ms/step - loss: 0.1369 - accuracy: 0.9560 - val_loss: 1.2791 - val_accuracy: 0.7468\n",
            "Epoch 57/100\n",
            "20/20 [==============================] - 0s 6ms/step - loss: 0.1619 - accuracy: 0.9332 - val_loss: 1.1721 - val_accuracy: 0.7532\n",
            "Epoch 58/100\n",
            "20/20 [==============================] - 0s 6ms/step - loss: 0.1544 - accuracy: 0.9381 - val_loss: 1.1069 - val_accuracy: 0.7662\n",
            "Epoch 59/100\n",
            "20/20 [==============================] - 0s 6ms/step - loss: 0.1264 - accuracy: 0.9397 - val_loss: 1.2497 - val_accuracy: 0.7597\n",
            "Epoch 60/100\n",
            "20/20 [==============================] - 0s 6ms/step - loss: 0.1146 - accuracy: 0.9560 - val_loss: 1.2263 - val_accuracy: 0.7403\n",
            "Epoch 61/100\n",
            "20/20 [==============================] - 0s 6ms/step - loss: 0.1026 - accuracy: 0.9658 - val_loss: 1.2891 - val_accuracy: 0.7468\n",
            "Epoch 62/100\n",
            "20/20 [==============================] - 0s 6ms/step - loss: 0.1325 - accuracy: 0.9511 - val_loss: 1.4013 - val_accuracy: 0.7273\n",
            "Epoch 63/100\n",
            "20/20 [==============================] - 0s 8ms/step - loss: 0.1712 - accuracy: 0.9349 - val_loss: 1.2804 - val_accuracy: 0.7403\n",
            "Epoch 64/100\n",
            "20/20 [==============================] - 0s 6ms/step - loss: 0.1309 - accuracy: 0.9528 - val_loss: 1.2973 - val_accuracy: 0.7403\n",
            "Epoch 65/100\n",
            "20/20 [==============================] - 0s 6ms/step - loss: 0.1112 - accuracy: 0.9658 - val_loss: 1.3661 - val_accuracy: 0.7403\n",
            "Epoch 66/100\n",
            "20/20 [==============================] - 0s 6ms/step - loss: 0.1192 - accuracy: 0.9511 - val_loss: 1.2963 - val_accuracy: 0.7597\n",
            "Epoch 67/100\n",
            "20/20 [==============================] - 0s 6ms/step - loss: 0.1555 - accuracy: 0.9283 - val_loss: 1.4035 - val_accuracy: 0.7078\n",
            "Epoch 68/100\n",
            "20/20 [==============================] - 0s 6ms/step - loss: 0.1082 - accuracy: 0.9593 - val_loss: 1.4505 - val_accuracy: 0.7273\n",
            "Epoch 69/100\n",
            "20/20 [==============================] - 0s 6ms/step - loss: 0.1100 - accuracy: 0.9642 - val_loss: 1.4193 - val_accuracy: 0.7208\n",
            "Epoch 70/100\n",
            "20/20 [==============================] - 0s 6ms/step - loss: 0.1235 - accuracy: 0.9479 - val_loss: 1.4399 - val_accuracy: 0.7143\n",
            "Epoch 71/100\n",
            "20/20 [==============================] - 0s 6ms/step - loss: 0.0966 - accuracy: 0.9577 - val_loss: 1.4870 - val_accuracy: 0.7078\n",
            "Epoch 72/100\n",
            "20/20 [==============================] - 0s 6ms/step - loss: 0.0846 - accuracy: 0.9739 - val_loss: 1.4197 - val_accuracy: 0.7532\n",
            "Epoch 73/100\n",
            "20/20 [==============================] - 0s 6ms/step - loss: 0.0787 - accuracy: 0.9707 - val_loss: 1.5837 - val_accuracy: 0.7338\n",
            "Epoch 74/100\n",
            "20/20 [==============================] - 0s 6ms/step - loss: 0.1112 - accuracy: 0.9528 - val_loss: 1.5664 - val_accuracy: 0.7338\n",
            "Epoch 75/100\n",
            "20/20 [==============================] - 0s 6ms/step - loss: 0.0842 - accuracy: 0.9658 - val_loss: 1.4967 - val_accuracy: 0.7597\n",
            "Epoch 76/100\n",
            "20/20 [==============================] - 0s 6ms/step - loss: 0.0867 - accuracy: 0.9707 - val_loss: 1.5556 - val_accuracy: 0.7403\n",
            "Epoch 77/100\n",
            "20/20 [==============================] - 0s 7ms/step - loss: 0.0870 - accuracy: 0.9723 - val_loss: 1.6124 - val_accuracy: 0.7468\n",
            "Epoch 78/100\n",
            "20/20 [==============================] - 0s 6ms/step - loss: 0.0604 - accuracy: 0.9756 - val_loss: 1.6569 - val_accuracy: 0.7208\n",
            "Epoch 79/100\n",
            "20/20 [==============================] - 0s 7ms/step - loss: 0.0564 - accuracy: 0.9805 - val_loss: 1.7148 - val_accuracy: 0.7662\n",
            "Epoch 80/100\n",
            "20/20 [==============================] - 0s 6ms/step - loss: 0.1008 - accuracy: 0.9593 - val_loss: 1.8366 - val_accuracy: 0.7338\n",
            "Epoch 81/100\n",
            "20/20 [==============================] - 0s 6ms/step - loss: 0.0784 - accuracy: 0.9674 - val_loss: 1.6365 - val_accuracy: 0.7532\n",
            "Epoch 82/100\n",
            "20/20 [==============================] - 0s 6ms/step - loss: 0.0980 - accuracy: 0.9691 - val_loss: 1.8395 - val_accuracy: 0.7468\n",
            "Epoch 83/100\n",
            "20/20 [==============================] - 0s 6ms/step - loss: 0.1033 - accuracy: 0.9674 - val_loss: 1.5701 - val_accuracy: 0.7532\n",
            "Epoch 84/100\n",
            "20/20 [==============================] - 0s 6ms/step - loss: 0.1192 - accuracy: 0.9544 - val_loss: 1.5561 - val_accuracy: 0.7597\n",
            "Epoch 85/100\n",
            "20/20 [==============================] - 0s 6ms/step - loss: 0.0898 - accuracy: 0.9625 - val_loss: 1.5180 - val_accuracy: 0.7597\n",
            "Epoch 86/100\n",
            "20/20 [==============================] - 0s 6ms/step - loss: 0.1366 - accuracy: 0.9577 - val_loss: 1.4143 - val_accuracy: 0.7662\n",
            "Epoch 87/100\n",
            "20/20 [==============================] - 0s 7ms/step - loss: 0.0974 - accuracy: 0.9609 - val_loss: 1.5477 - val_accuracy: 0.7532\n",
            "Epoch 88/100\n",
            "20/20 [==============================] - 0s 6ms/step - loss: 0.0933 - accuracy: 0.9674 - val_loss: 1.5708 - val_accuracy: 0.7143\n",
            "Epoch 89/100\n",
            "20/20 [==============================] - 0s 6ms/step - loss: 0.0601 - accuracy: 0.9788 - val_loss: 1.6447 - val_accuracy: 0.7338\n",
            "Epoch 90/100\n",
            "20/20 [==============================] - 0s 7ms/step - loss: 0.0653 - accuracy: 0.9805 - val_loss: 1.6936 - val_accuracy: 0.7338\n",
            "Epoch 91/100\n",
            "20/20 [==============================] - 0s 6ms/step - loss: 0.0518 - accuracy: 0.9853 - val_loss: 1.6972 - val_accuracy: 0.7338\n",
            "Epoch 92/100\n",
            "20/20 [==============================] - 0s 7ms/step - loss: 0.1125 - accuracy: 0.9625 - val_loss: 1.6666 - val_accuracy: 0.7403\n",
            "Epoch 93/100\n",
            "20/20 [==============================] - 0s 7ms/step - loss: 0.0777 - accuracy: 0.9723 - val_loss: 1.6146 - val_accuracy: 0.7208\n",
            "Epoch 94/100\n",
            "20/20 [==============================] - 0s 6ms/step - loss: 0.0652 - accuracy: 0.9739 - val_loss: 1.8337 - val_accuracy: 0.7403\n",
            "Epoch 95/100\n",
            "20/20 [==============================] - 0s 7ms/step - loss: 0.0638 - accuracy: 0.9707 - val_loss: 1.8049 - val_accuracy: 0.7403\n",
            "Epoch 96/100\n",
            "20/20 [==============================] - 0s 6ms/step - loss: 0.0446 - accuracy: 0.9902 - val_loss: 1.8075 - val_accuracy: 0.7208\n",
            "Epoch 97/100\n",
            "20/20 [==============================] - 0s 6ms/step - loss: 0.0352 - accuracy: 0.9902 - val_loss: 1.9687 - val_accuracy: 0.7403\n",
            "Epoch 98/100\n",
            "20/20 [==============================] - 0s 6ms/step - loss: 0.0400 - accuracy: 0.9902 - val_loss: 1.9734 - val_accuracy: 0.7662\n",
            "Epoch 99/100\n",
            "20/20 [==============================] - 0s 6ms/step - loss: 0.0282 - accuracy: 0.9886 - val_loss: 2.0386 - val_accuracy: 0.7468\n",
            "Epoch 100/100\n",
            "20/20 [==============================] - 0s 6ms/step - loss: 0.0337 - accuracy: 0.9870 - val_loss: 2.1126 - val_accuracy: 0.7532\n"
          ]
        },
        {
          "data": {
            "text/plain": [
              "<keras.src.callbacks.History at 0x7dc35c0d7a30>"
            ]
          },
          "execution_count": 32,
          "metadata": {},
          "output_type": "execute_result"
        }
      ],
      "source": [
        "model.fit(X_train,Y_train,validation_data=(X_test,Y_test),epochs=100,initial_epoch=6)"
      ]
    },
    {
      "cell_type": "markdown",
      "metadata": {
        "id": "vxlBoKBQDJ8e"
      },
      "source": [
        "##All Parameter finding"
      ]
    },
    {
      "cell_type": "code",
      "execution_count": 119,
      "metadata": {
        "id": "7sjhTuisw0VY"
      },
      "outputs": [],
      "source": [
        "def build_model (hp):\n",
        "    model=Sequential()\n",
        "    cnt=0\n",
        "    for i in range(hp.Int('num_layers',min_value=1,max_value=10)):\n",
        "        if cnt==0:\n",
        "            model.add(\n",
        "                Dense(\n",
        "                units=hp.Int('units'+str(i),min_value=8,max_value=128,step=8),\n",
        "                activation=hp.Choice('activation'+str(i),values=['relu','tanh','sigmoid']),\n",
        "                input_dim=8\n",
        "                     )\n",
        "            )\n",
        "            model.add(Dropout(hp.Choice('Dropout'+str(i),values=[.1,.2,.3,.4,.5,.6])))\n",
        "        else :\n",
        "            model.add(\n",
        "                Dense(\n",
        "                units=hp.Int('units'+str(i),min_value=8,max_value=128,step=8),\n",
        "                activation=hp.Choice('activation'+str(i),values=['relu','tanh','sigmoid']),\n",
        "                     )\n",
        "            )\n",
        "            model.add(Dropout(hp.Choice('Dropout'+str(i),values=[.1,.2,.3,.4,.5,.6])))\n",
        "        cnt+=1\n",
        "    model.add(Dense(1,activation='sigmoid'))\n",
        "\n",
        "    model.compile(loss='binary_crossentropy',optimizer=hp.Choice('optimizer',values=['rmsprop','adm','adagrad','sgd','nadam']),metrics = ['accuracy'])\n",
        "\n",
        "    return model"
      ]
    },
    {
      "cell_type": "code",
      "execution_count": 120,
      "metadata": {
        "id": "AXqRb8WsGzHn"
      },
      "outputs": [],
      "source": [
        "tuner = kt.RandomSearch(build_model,max_trials=5,objective='val_accuracy',directory='mydir1',project_name='ayush11')"
      ]
    },
    {
      "cell_type": "code",
      "execution_count": 121,
      "metadata": {
        "colab": {
          "base_uri": "https://localhost:8080/"
        },
        "id": "oR-f5-8dHqmr",
        "outputId": "88415322-7918-4b31-ac5b-abb03e0e14a5"
      },
      "outputs": [
        {
          "output_type": "stream",
          "name": "stdout",
          "text": [
            "Trial 5 Complete [00h 00m 04s]\n",
            "val_accuracy: 0.6948052048683167\n",
            "\n",
            "Best val_accuracy So Far: 0.7792207598686218\n",
            "Total elapsed time: 00h 00m 24s\n"
          ]
        }
      ],
      "source": [
        "tuner.search(X_train,Y_train,epochs=4,validation_data=(X_test,Y_test))"
      ]
    },
    {
      "cell_type": "code",
      "execution_count": 122,
      "metadata": {
        "colab": {
          "base_uri": "https://localhost:8080/"
        },
        "id": "FAL7nhMGH5ht",
        "outputId": "c1ec5427-8125-47f0-9b1a-c64ebc06581c"
      },
      "outputs": [
        {
          "output_type": "execute_result",
          "data": {
            "text/plain": [
              "{'num_layers': 1,\n",
              " 'units0': 96,\n",
              " 'activation0': 'sigmoid',\n",
              " 'Dropout0': 0.1,\n",
              " 'optimizer': 'rmsprop',\n",
              " 'units1': 48,\n",
              " 'activation1': 'tanh',\n",
              " 'Dropout1': 0.3,\n",
              " 'units2': 56,\n",
              " 'activation2': 'sigmoid',\n",
              " 'Dropout2': 0.2,\n",
              " 'units3': 16,\n",
              " 'activation3': 'relu',\n",
              " 'Dropout3': 0.2,\n",
              " 'units4': 120,\n",
              " 'activation4': 'relu',\n",
              " 'Dropout4': 0.4,\n",
              " 'units5': 32,\n",
              " 'activation5': 'tanh',\n",
              " 'Dropout5': 0.6,\n",
              " 'units6': 32,\n",
              " 'activation6': 'relu',\n",
              " 'Dropout6': 0.6,\n",
              " 'units7': 24,\n",
              " 'activation7': 'relu',\n",
              " 'Dropout7': 0.2,\n",
              " 'units8': 88,\n",
              " 'activation8': 'relu',\n",
              " 'Dropout8': 0.1,\n",
              " 'units9': 32,\n",
              " 'activation9': 'tanh',\n",
              " 'Dropout9': 0.3}"
            ]
          },
          "metadata": {},
          "execution_count": 122
        }
      ],
      "source": [
        "tuner.get_best_hyperparameters()[0].values"
      ]
    },
    {
      "cell_type": "code",
      "source": [
        "model=tuner.get_best_models(num_models=1)[0]"
      ],
      "metadata": {
        "id": "2k8wJFwgLbqo"
      },
      "execution_count": 123,
      "outputs": []
    },
    {
      "cell_type": "code",
      "source": [
        "hist=model.fit(X_train,Y_train,validation_data=(X_test,Y_test),epochs=100,initial_epoch=5)"
      ],
      "metadata": {
        "colab": {
          "base_uri": "https://localhost:8080/"
        },
        "id": "4bA9DxPtTSiP",
        "outputId": "70d7ae29-1bc1-41cf-a559-bf650d3bbb00"
      },
      "execution_count": 124,
      "outputs": [
        {
          "output_type": "stream",
          "name": "stdout",
          "text": [
            "Epoch 6/100\n",
            "20/20 [==============================] - 1s 11ms/step - loss: 0.5573 - accuracy: 0.7215 - val_loss: 0.4993 - val_accuracy: 0.7857\n",
            "Epoch 7/100\n",
            "20/20 [==============================] - 0s 5ms/step - loss: 0.5431 - accuracy: 0.7280 - val_loss: 0.4839 - val_accuracy: 0.7792\n",
            "Epoch 8/100\n",
            "20/20 [==============================] - 0s 5ms/step - loss: 0.5381 - accuracy: 0.7329 - val_loss: 0.4788 - val_accuracy: 0.7857\n",
            "Epoch 9/100\n",
            "20/20 [==============================] - 0s 5ms/step - loss: 0.5275 - accuracy: 0.7394 - val_loss: 0.4662 - val_accuracy: 0.7857\n",
            "Epoch 10/100\n",
            "20/20 [==============================] - 0s 5ms/step - loss: 0.5206 - accuracy: 0.7378 - val_loss: 0.4592 - val_accuracy: 0.7857\n",
            "Epoch 11/100\n",
            "20/20 [==============================] - 0s 5ms/step - loss: 0.5055 - accuracy: 0.7476 - val_loss: 0.4532 - val_accuracy: 0.7987\n",
            "Epoch 12/100\n",
            "20/20 [==============================] - 0s 6ms/step - loss: 0.5105 - accuracy: 0.7541 - val_loss: 0.4494 - val_accuracy: 0.8052\n",
            "Epoch 13/100\n",
            "20/20 [==============================] - 0s 5ms/step - loss: 0.5086 - accuracy: 0.7541 - val_loss: 0.4488 - val_accuracy: 0.8117\n",
            "Epoch 14/100\n",
            "20/20 [==============================] - 0s 5ms/step - loss: 0.4963 - accuracy: 0.7704 - val_loss: 0.4410 - val_accuracy: 0.8117\n",
            "Epoch 15/100\n",
            "20/20 [==============================] - 0s 5ms/step - loss: 0.5028 - accuracy: 0.7508 - val_loss: 0.4387 - val_accuracy: 0.8312\n",
            "Epoch 16/100\n",
            "20/20 [==============================] - 0s 5ms/step - loss: 0.4968 - accuracy: 0.7557 - val_loss: 0.4403 - val_accuracy: 0.8117\n",
            "Epoch 17/100\n",
            "20/20 [==============================] - 0s 5ms/step - loss: 0.4982 - accuracy: 0.7622 - val_loss: 0.4344 - val_accuracy: 0.8247\n",
            "Epoch 18/100\n",
            "20/20 [==============================] - 0s 4ms/step - loss: 0.4898 - accuracy: 0.7671 - val_loss: 0.4311 - val_accuracy: 0.8247\n",
            "Epoch 19/100\n",
            "20/20 [==============================] - 0s 4ms/step - loss: 0.4935 - accuracy: 0.7557 - val_loss: 0.4306 - val_accuracy: 0.8312\n",
            "Epoch 20/100\n",
            "20/20 [==============================] - 0s 5ms/step - loss: 0.5009 - accuracy: 0.7492 - val_loss: 0.4287 - val_accuracy: 0.8312\n",
            "Epoch 21/100\n",
            "20/20 [==============================] - 0s 5ms/step - loss: 0.4918 - accuracy: 0.7573 - val_loss: 0.4289 - val_accuracy: 0.8182\n",
            "Epoch 22/100\n",
            "20/20 [==============================] - 0s 5ms/step - loss: 0.4980 - accuracy: 0.7492 - val_loss: 0.4263 - val_accuracy: 0.8312\n",
            "Epoch 23/100\n",
            "20/20 [==============================] - 0s 5ms/step - loss: 0.4938 - accuracy: 0.7606 - val_loss: 0.4281 - val_accuracy: 0.8117\n",
            "Epoch 24/100\n",
            "20/20 [==============================] - 0s 5ms/step - loss: 0.4933 - accuracy: 0.7606 - val_loss: 0.4257 - val_accuracy: 0.8247\n",
            "Epoch 25/100\n",
            "20/20 [==============================] - 0s 5ms/step - loss: 0.4850 - accuracy: 0.7736 - val_loss: 0.4244 - val_accuracy: 0.8247\n",
            "Epoch 26/100\n",
            "20/20 [==============================] - 0s 5ms/step - loss: 0.4968 - accuracy: 0.7606 - val_loss: 0.4259 - val_accuracy: 0.8117\n",
            "Epoch 27/100\n",
            "20/20 [==============================] - 0s 4ms/step - loss: 0.4824 - accuracy: 0.7736 - val_loss: 0.4253 - val_accuracy: 0.8182\n",
            "Epoch 28/100\n",
            "20/20 [==============================] - 0s 5ms/step - loss: 0.4901 - accuracy: 0.7524 - val_loss: 0.4237 - val_accuracy: 0.8247\n",
            "Epoch 29/100\n",
            "20/20 [==============================] - 0s 4ms/step - loss: 0.4932 - accuracy: 0.7606 - val_loss: 0.4246 - val_accuracy: 0.8182\n",
            "Epoch 30/100\n",
            "20/20 [==============================] - 0s 5ms/step - loss: 0.4849 - accuracy: 0.7541 - val_loss: 0.4254 - val_accuracy: 0.8117\n",
            "Epoch 31/100\n",
            "20/20 [==============================] - 0s 5ms/step - loss: 0.4880 - accuracy: 0.7606 - val_loss: 0.4266 - val_accuracy: 0.8052\n",
            "Epoch 32/100\n",
            "20/20 [==============================] - 0s 5ms/step - loss: 0.4840 - accuracy: 0.7720 - val_loss: 0.4211 - val_accuracy: 0.8247\n",
            "Epoch 33/100\n",
            "20/20 [==============================] - 0s 5ms/step - loss: 0.4898 - accuracy: 0.7606 - val_loss: 0.4235 - val_accuracy: 0.8182\n",
            "Epoch 34/100\n",
            "20/20 [==============================] - 0s 5ms/step - loss: 0.4817 - accuracy: 0.7638 - val_loss: 0.4352 - val_accuracy: 0.7922\n",
            "Epoch 35/100\n",
            "20/20 [==============================] - 0s 5ms/step - loss: 0.4871 - accuracy: 0.7622 - val_loss: 0.4266 - val_accuracy: 0.8052\n",
            "Epoch 36/100\n",
            "20/20 [==============================] - 0s 4ms/step - loss: 0.4881 - accuracy: 0.7459 - val_loss: 0.4237 - val_accuracy: 0.8182\n",
            "Epoch 37/100\n",
            "20/20 [==============================] - 0s 5ms/step - loss: 0.4894 - accuracy: 0.7720 - val_loss: 0.4208 - val_accuracy: 0.8247\n",
            "Epoch 38/100\n",
            "20/20 [==============================] - 0s 5ms/step - loss: 0.4885 - accuracy: 0.7573 - val_loss: 0.4220 - val_accuracy: 0.8247\n",
            "Epoch 39/100\n",
            "20/20 [==============================] - 0s 5ms/step - loss: 0.4879 - accuracy: 0.7622 - val_loss: 0.4216 - val_accuracy: 0.8247\n",
            "Epoch 40/100\n",
            "20/20 [==============================] - 0s 5ms/step - loss: 0.4826 - accuracy: 0.7573 - val_loss: 0.4214 - val_accuracy: 0.8247\n",
            "Epoch 41/100\n",
            "20/20 [==============================] - 0s 5ms/step - loss: 0.4868 - accuracy: 0.7638 - val_loss: 0.4212 - val_accuracy: 0.8247\n",
            "Epoch 42/100\n",
            "20/20 [==============================] - 0s 6ms/step - loss: 0.4754 - accuracy: 0.7785 - val_loss: 0.4235 - val_accuracy: 0.8247\n",
            "Epoch 43/100\n",
            "20/20 [==============================] - 0s 5ms/step - loss: 0.4873 - accuracy: 0.7573 - val_loss: 0.4260 - val_accuracy: 0.8117\n",
            "Epoch 44/100\n",
            "20/20 [==============================] - 0s 5ms/step - loss: 0.4875 - accuracy: 0.7590 - val_loss: 0.4229 - val_accuracy: 0.8182\n",
            "Epoch 45/100\n",
            "20/20 [==============================] - 0s 5ms/step - loss: 0.4863 - accuracy: 0.7655 - val_loss: 0.4217 - val_accuracy: 0.8247\n",
            "Epoch 46/100\n",
            "20/20 [==============================] - 0s 5ms/step - loss: 0.4806 - accuracy: 0.7671 - val_loss: 0.4204 - val_accuracy: 0.8247\n",
            "Epoch 47/100\n",
            "20/20 [==============================] - 0s 5ms/step - loss: 0.4835 - accuracy: 0.7671 - val_loss: 0.4203 - val_accuracy: 0.8247\n",
            "Epoch 48/100\n",
            "20/20 [==============================] - 0s 5ms/step - loss: 0.4864 - accuracy: 0.7590 - val_loss: 0.4241 - val_accuracy: 0.8182\n",
            "Epoch 49/100\n",
            "20/20 [==============================] - 0s 5ms/step - loss: 0.4848 - accuracy: 0.7736 - val_loss: 0.4250 - val_accuracy: 0.8117\n",
            "Epoch 50/100\n",
            "20/20 [==============================] - 0s 5ms/step - loss: 0.4832 - accuracy: 0.7590 - val_loss: 0.4233 - val_accuracy: 0.8247\n",
            "Epoch 51/100\n",
            "20/20 [==============================] - 0s 5ms/step - loss: 0.4768 - accuracy: 0.7736 - val_loss: 0.4243 - val_accuracy: 0.8117\n",
            "Epoch 52/100\n",
            "20/20 [==============================] - 0s 5ms/step - loss: 0.4911 - accuracy: 0.7508 - val_loss: 0.4246 - val_accuracy: 0.8182\n",
            "Epoch 53/100\n",
            "20/20 [==============================] - 0s 6ms/step - loss: 0.4811 - accuracy: 0.7752 - val_loss: 0.4248 - val_accuracy: 0.8182\n",
            "Epoch 54/100\n",
            "20/20 [==============================] - 0s 7ms/step - loss: 0.4877 - accuracy: 0.7606 - val_loss: 0.4226 - val_accuracy: 0.8247\n",
            "Epoch 55/100\n",
            "20/20 [==============================] - 0s 7ms/step - loss: 0.4844 - accuracy: 0.7638 - val_loss: 0.4277 - val_accuracy: 0.7922\n",
            "Epoch 56/100\n",
            "20/20 [==============================] - 0s 7ms/step - loss: 0.4915 - accuracy: 0.7573 - val_loss: 0.4245 - val_accuracy: 0.8052\n",
            "Epoch 57/100\n",
            "20/20 [==============================] - 0s 7ms/step - loss: 0.4876 - accuracy: 0.7573 - val_loss: 0.4209 - val_accuracy: 0.8247\n",
            "Epoch 58/100\n",
            "20/20 [==============================] - 0s 7ms/step - loss: 0.4890 - accuracy: 0.7622 - val_loss: 0.4234 - val_accuracy: 0.8182\n",
            "Epoch 59/100\n",
            "20/20 [==============================] - 0s 8ms/step - loss: 0.4861 - accuracy: 0.7590 - val_loss: 0.4244 - val_accuracy: 0.8052\n",
            "Epoch 60/100\n",
            "20/20 [==============================] - 0s 7ms/step - loss: 0.4827 - accuracy: 0.7622 - val_loss: 0.4192 - val_accuracy: 0.8247\n",
            "Epoch 61/100\n",
            "20/20 [==============================] - 0s 7ms/step - loss: 0.4861 - accuracy: 0.7704 - val_loss: 0.4237 - val_accuracy: 0.8052\n",
            "Epoch 62/100\n",
            "20/20 [==============================] - 0s 7ms/step - loss: 0.4933 - accuracy: 0.7704 - val_loss: 0.4224 - val_accuracy: 0.8182\n",
            "Epoch 63/100\n",
            "20/20 [==============================] - 0s 7ms/step - loss: 0.4890 - accuracy: 0.7720 - val_loss: 0.4293 - val_accuracy: 0.7922\n",
            "Epoch 64/100\n",
            "20/20 [==============================] - 0s 6ms/step - loss: 0.4836 - accuracy: 0.7622 - val_loss: 0.4233 - val_accuracy: 0.8182\n",
            "Epoch 65/100\n",
            "20/20 [==============================] - 0s 7ms/step - loss: 0.4766 - accuracy: 0.7752 - val_loss: 0.4276 - val_accuracy: 0.7922\n",
            "Epoch 66/100\n",
            "20/20 [==============================] - 0s 7ms/step - loss: 0.4806 - accuracy: 0.7622 - val_loss: 0.4254 - val_accuracy: 0.8052\n",
            "Epoch 67/100\n",
            "20/20 [==============================] - 0s 7ms/step - loss: 0.4940 - accuracy: 0.7671 - val_loss: 0.4211 - val_accuracy: 0.8182\n",
            "Epoch 68/100\n",
            "20/20 [==============================] - 0s 7ms/step - loss: 0.4836 - accuracy: 0.7638 - val_loss: 0.4235 - val_accuracy: 0.8182\n",
            "Epoch 69/100\n",
            "20/20 [==============================] - 0s 7ms/step - loss: 0.4895 - accuracy: 0.7671 - val_loss: 0.4217 - val_accuracy: 0.8247\n",
            "Epoch 70/100\n",
            "20/20 [==============================] - 0s 6ms/step - loss: 0.4837 - accuracy: 0.7557 - val_loss: 0.4232 - val_accuracy: 0.8182\n",
            "Epoch 71/100\n",
            "20/20 [==============================] - 0s 7ms/step - loss: 0.4912 - accuracy: 0.7606 - val_loss: 0.4207 - val_accuracy: 0.8182\n",
            "Epoch 72/100\n",
            "20/20 [==============================] - 0s 7ms/step - loss: 0.4938 - accuracy: 0.7638 - val_loss: 0.4233 - val_accuracy: 0.8182\n",
            "Epoch 73/100\n",
            "20/20 [==============================] - 0s 7ms/step - loss: 0.4868 - accuracy: 0.7671 - val_loss: 0.4231 - val_accuracy: 0.8182\n",
            "Epoch 74/100\n",
            "20/20 [==============================] - 0s 8ms/step - loss: 0.4835 - accuracy: 0.7736 - val_loss: 0.4233 - val_accuracy: 0.8182\n",
            "Epoch 75/100\n",
            "20/20 [==============================] - 0s 8ms/step - loss: 0.4853 - accuracy: 0.7671 - val_loss: 0.4275 - val_accuracy: 0.7922\n",
            "Epoch 76/100\n",
            "20/20 [==============================] - 0s 7ms/step - loss: 0.4875 - accuracy: 0.7622 - val_loss: 0.4253 - val_accuracy: 0.7987\n",
            "Epoch 77/100\n",
            "20/20 [==============================] - 0s 6ms/step - loss: 0.4830 - accuracy: 0.7704 - val_loss: 0.4207 - val_accuracy: 0.8182\n",
            "Epoch 78/100\n",
            "20/20 [==============================] - 0s 8ms/step - loss: 0.4898 - accuracy: 0.7687 - val_loss: 0.4286 - val_accuracy: 0.7922\n",
            "Epoch 79/100\n",
            "20/20 [==============================] - 0s 7ms/step - loss: 0.4882 - accuracy: 0.7557 - val_loss: 0.4229 - val_accuracy: 0.8182\n",
            "Epoch 80/100\n",
            "20/20 [==============================] - 0s 8ms/step - loss: 0.4890 - accuracy: 0.7638 - val_loss: 0.4202 - val_accuracy: 0.8247\n",
            "Epoch 81/100\n",
            "20/20 [==============================] - 0s 8ms/step - loss: 0.4853 - accuracy: 0.7671 - val_loss: 0.4307 - val_accuracy: 0.7922\n",
            "Epoch 82/100\n",
            "20/20 [==============================] - 0s 5ms/step - loss: 0.4863 - accuracy: 0.7736 - val_loss: 0.4227 - val_accuracy: 0.8247\n",
            "Epoch 83/100\n",
            "20/20 [==============================] - 0s 5ms/step - loss: 0.4873 - accuracy: 0.7541 - val_loss: 0.4211 - val_accuracy: 0.8247\n",
            "Epoch 84/100\n",
            "20/20 [==============================] - 0s 5ms/step - loss: 0.4910 - accuracy: 0.7590 - val_loss: 0.4217 - val_accuracy: 0.8247\n",
            "Epoch 85/100\n",
            "20/20 [==============================] - 0s 5ms/step - loss: 0.4790 - accuracy: 0.7655 - val_loss: 0.4208 - val_accuracy: 0.8247\n",
            "Epoch 86/100\n",
            "20/20 [==============================] - 0s 6ms/step - loss: 0.4860 - accuracy: 0.7622 - val_loss: 0.4317 - val_accuracy: 0.7922\n",
            "Epoch 87/100\n",
            "20/20 [==============================] - 0s 5ms/step - loss: 0.4868 - accuracy: 0.7573 - val_loss: 0.4265 - val_accuracy: 0.7922\n",
            "Epoch 88/100\n",
            "20/20 [==============================] - 0s 5ms/step - loss: 0.4833 - accuracy: 0.7671 - val_loss: 0.4221 - val_accuracy: 0.8182\n",
            "Epoch 89/100\n",
            "20/20 [==============================] - 0s 5ms/step - loss: 0.4812 - accuracy: 0.7720 - val_loss: 0.4210 - val_accuracy: 0.8182\n",
            "Epoch 90/100\n",
            "20/20 [==============================] - 0s 6ms/step - loss: 0.4883 - accuracy: 0.7638 - val_loss: 0.4247 - val_accuracy: 0.8052\n",
            "Epoch 91/100\n",
            "20/20 [==============================] - 0s 6ms/step - loss: 0.4845 - accuracy: 0.7590 - val_loss: 0.4217 - val_accuracy: 0.8182\n",
            "Epoch 92/100\n",
            "20/20 [==============================] - 0s 5ms/step - loss: 0.4809 - accuracy: 0.7720 - val_loss: 0.4257 - val_accuracy: 0.7922\n",
            "Epoch 93/100\n",
            "20/20 [==============================] - 0s 5ms/step - loss: 0.4874 - accuracy: 0.7720 - val_loss: 0.4283 - val_accuracy: 0.7922\n",
            "Epoch 94/100\n",
            "20/20 [==============================] - 0s 5ms/step - loss: 0.4847 - accuracy: 0.7638 - val_loss: 0.4185 - val_accuracy: 0.8247\n",
            "Epoch 95/100\n",
            "20/20 [==============================] - 0s 5ms/step - loss: 0.4825 - accuracy: 0.7752 - val_loss: 0.4215 - val_accuracy: 0.8182\n",
            "Epoch 96/100\n",
            "20/20 [==============================] - 0s 5ms/step - loss: 0.4756 - accuracy: 0.7655 - val_loss: 0.4210 - val_accuracy: 0.8182\n",
            "Epoch 97/100\n",
            "20/20 [==============================] - 0s 4ms/step - loss: 0.4786 - accuracy: 0.7720 - val_loss: 0.4218 - val_accuracy: 0.8182\n",
            "Epoch 98/100\n",
            "20/20 [==============================] - 0s 5ms/step - loss: 0.4801 - accuracy: 0.7638 - val_loss: 0.4245 - val_accuracy: 0.7922\n",
            "Epoch 99/100\n",
            "20/20 [==============================] - 0s 5ms/step - loss: 0.4803 - accuracy: 0.7573 - val_loss: 0.4218 - val_accuracy: 0.8182\n",
            "Epoch 100/100\n",
            "20/20 [==============================] - 0s 5ms/step - loss: 0.4723 - accuracy: 0.7720 - val_loss: 0.4225 - val_accuracy: 0.8117\n"
          ]
        }
      ]
    },
    {
      "cell_type": "code",
      "source": [
        "plt.plot(hist.history['loss'])\n",
        "plt.plot(hist.history['val_loss'])"
      ],
      "metadata": {
        "colab": {
          "base_uri": "https://localhost:8080/",
          "height": 447
        },
        "id": "iEyENe2uTcCh",
        "outputId": "469af2df-bbd6-46b0-a20a-9bd6067c9ab1"
      },
      "execution_count": 125,
      "outputs": [
        {
          "output_type": "execute_result",
          "data": {
            "text/plain": [
              "[<matplotlib.lines.Line2D at 0x7dc323278970>]"
            ]
          },
          "metadata": {},
          "execution_count": 125
        },
        {
          "output_type": "display_data",
          "data": {
            "text/plain": [
              "<Figure size 640x480 with 1 Axes>"
            ],
            "image/png": "[encoded data removed]"
          },
          "metadata": {}
        }
      ]
    },
    {
      "cell_type": "code",
      "source": [
        "plt.plot(hist.history['accuracy'])\n",
        "plt.plot(hist.history['val_accuracy'])"
      ],
      "metadata": {
        "colab": {
          "base_uri": "https://localhost:8080/",
          "height": 447
        },
        "id": "DJB_XYTxVQuK",
        "outputId": "257b77a7-d931-46ce-defe-4e5dd556f2c5"
      },
      "execution_count": 126,
      "outputs": [
        {
          "output_type": "execute_result",
          "data": {
            "text/plain": [
              "[<matplotlib.lines.Line2D at 0x7dc3230f04c0>]"
            ]
          },
          "metadata": {},
          "execution_count": 126
        },
        {
          "output_type": "display_data",
          "data": {
            "text/plain": [
              "<Figure size 640x480 with 1 Axes>"
            ],
            "image/png": "[encoded data removed]"
          },
          "metadata": {}
        }
      ]
    },
    {
      "cell_type": "code",
      "source": [],
      "metadata": {
        "id": "JXhkUqhqVWLW"
      },
      "execution_count": null,
      "outputs": []
    }
  ],
  "metadata": {
    "accelerator": "GPU",
    "colab": {
      "gpuType": "T4",
      "provenance": [],
      "mount_file_id": "1iy_R0cBeEaBC42p6B__qNGtkFhvmEtNh",
      "authorship_tag": "ABX9TyMQVeMxZqSVjK1FBCb2RlEy",
      "include_colab_link": true
    },
    "kernelspec": {
      "display_name": "Python 3",
      "name": "python3"
    },
    "language_info": {
      "name": "python"
    }
  },
  "nbformat": 4,
  "nbformat_minor": 0
}